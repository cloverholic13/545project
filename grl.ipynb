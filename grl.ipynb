{
 "cells": [
  {
   "cell_type": "markdown",
   "metadata": {},
   "source": [
    "# baseline: GRL method"
   ]
  },
  {
   "cell_type": "code",
   "execution_count": null,
   "metadata": {},
   "outputs": [],
   "source": []
  },
  {
   "cell_type": "markdown",
   "metadata": {},
   "source": [
    "# Preprocessing data"
   ]
  },
  {
   "cell_type": "code",
   "execution_count": 1,
   "metadata": {},
   "outputs": [],
   "source": [
    "import numpy as np\n",
    "import matplotlib.pyplot as plt\n",
    "import h5py\n",
    "import scipy.io as sio\n",
    "import time\n",
    "\n",
    "import os\n",
    "from sklearn.model_selection import train_test_split\n",
    "# Tensorflow or PyTorch?\n",
    "import tensorflow as tf\n",
    "from tensorflow import keras"
   ]
  },
  {
   "cell_type": "code",
   "execution_count": 2,
   "metadata": {},
   "outputs": [
    {
     "data": {
      "text/plain": [
       "[]"
      ]
     },
     "execution_count": 2,
     "metadata": {},
     "output_type": "execute_result"
    }
   ],
   "source": [
    "tf.config.experimental.list_physical_devices('GPU')"
   ]
  },
  {
   "cell_type": "code",
   "execution_count": 3,
   "metadata": {},
   "outputs": [
    {
     "data": {
      "text/plain": [
       "((60000, 28, 28), (60000,), (10000, 28, 28), (10000,))"
      ]
     },
     "execution_count": 3,
     "metadata": {},
     "output_type": "execute_result"
    }
   ],
   "source": [
    "# MNIST Dataset\n",
    "(mnist_X_train, mnist_y_train), (mnist_X_test, mnist_y_test) = keras.datasets.mnist.load_data()\n",
    "\n",
    "mnist_X_train.shape, mnist_y_train.shape, mnist_X_test.shape, mnist_y_test.shape"
   ]
  },
  {
   "cell_type": "code",
   "execution_count": 4,
   "metadata": {
    "scrolled": true
   },
   "outputs": [
    {
     "data": {
      "text/plain": [
       "dtype('float32')"
      ]
     },
     "execution_count": 4,
     "metadata": {},
     "output_type": "execute_result"
    }
   ],
   "source": [
    "mnist_X_train = mnist_X_train.astype('float32')\n",
    "mnist_X_test = mnist_X_test.astype('float32')\n",
    "mnist_X_train.dtype"
   ]
  },
  {
   "cell_type": "code",
   "execution_count": 5,
   "metadata": {},
   "outputs": [
    {
     "data": {
      "text/plain": [
       "((7291, 16, 16), (7291,), (2007, 16, 16), (2007,))"
      ]
     },
     "execution_count": 5,
     "metadata": {},
     "output_type": "execute_result"
    }
   ],
   "source": [
    "# USPS Dataset\n",
    "with h5py.File('usps.h5', 'r') as hf:\n",
    "    train = hf.get('train')\n",
    "    usps_X_train = np.reshape(train.get('data')[:], (-1,16,16))\n",
    "    usps_y_train = train.get('target')[:]\n",
    "    test = hf.get('test')\n",
    "    usps_X_test = np.reshape(test.get('data')[:], (-1,16,16))\n",
    "    usps_y_test = test.get('target')[:]\n",
    "\n",
    "usps_X_train.shape, usps_y_train.shape, usps_X_test.shape, usps_y_test.shape"
   ]
  },
  {
   "cell_type": "code",
   "execution_count": 6,
   "metadata": {},
   "outputs": [
    {
     "data": {
      "text/plain": [
       "dtype('float32')"
      ]
     },
     "execution_count": 6,
     "metadata": {},
     "output_type": "execute_result"
    }
   ],
   "source": [
    "usps_X_train = usps_X_train.astype('float32')\n",
    "usps_X_test = usps_X_test.astype('float32')\n",
    "usps_X_train.dtype"
   ]
  },
  {
   "cell_type": "code",
   "execution_count": 7,
   "metadata": {},
   "outputs": [
    {
     "data": {
      "text/plain": [
       "((73257, 32, 32, 3), (73257,), (26032, 32, 32, 3), (26032,))"
      ]
     },
     "execution_count": 7,
     "metadata": {},
     "output_type": "execute_result"
    }
   ],
   "source": [
    "# SVHN Dataset\n",
    "f = sio.loadmat('train_32x32.mat')\n",
    "svhn_X_train = np.moveaxis(np.array(f['X']), -1, 0)\n",
    "svhn_y_train = np.array(f['y']).squeeze()\n",
    "f = sio.loadmat('test_32x32.mat')\n",
    "svhn_X_test = np.moveaxis(np.array(f['X']), -1, 0)\n",
    "svhn_y_test = np.array(f['y']).squeeze()\n",
    "\n",
    "svhn_X_train.shape, svhn_y_train.shape, svhn_X_test.shape, svhn_y_test.shape"
   ]
  },
  {
   "cell_type": "code",
   "execution_count": 8,
   "metadata": {},
   "outputs": [
    {
     "data": {
      "text/plain": [
       "dtype('float32')"
      ]
     },
     "execution_count": 8,
     "metadata": {},
     "output_type": "execute_result"
    }
   ],
   "source": [
    "svhn_X_train = svhn_X_train.astype('float32')\n",
    "svhn_X_test = svhn_X_test.astype('float32')\n",
    "svhn_X_train.dtype"
   ]
  },
  {
   "cell_type": "code",
   "execution_count": 9,
   "metadata": {},
   "outputs": [],
   "source": [
    "svhn_y_train[svhn_y_train==10]=0\n",
    "svhn_y_test[svhn_y_test==10]=0"
   ]
  },
  {
   "cell_type": "code",
   "execution_count": 10,
   "metadata": {},
   "outputs": [],
   "source": [
    "def plot_digits(X, y=None, grid=None):\n",
    "    if (X.ndim==2):\n",
    "        fig, ax = plt.subplots()\n",
    "        ax.imshow(X, cmap='gray')\n",
    "        ax.axis('off')\n",
    "        if (y is not None):\n",
    "            ax.set_title('Label ' + str(y))\n",
    "        plt.show()\n",
    "    else:\n",
    "        if (grid is None):\n",
    "            fig, ax = plt.subplots(X.shape[0])\n",
    "        else:\n",
    "            fig, ax = plt.subplots(grid[0], grid[1])\n",
    "        for i in range(X.shape[0]):\n",
    "            ax.flatten()[i].imshow(X[i], cmap='gray')\n",
    "            ax.flatten()[i].axis('off')\n",
    "            if (y is not None):\n",
    "                ax.flatten()[i].set_title('Label ' + str(y[i]))\n",
    "        plt.show()\n",
    "        \n",
    "def plot_color_digits(X, y=None, grid=None):\n",
    "    if (X.ndim==3):\n",
    "        fig, ax = plt.subplots()\n",
    "        ax.imshow(X)\n",
    "        ax.axis('off')\n",
    "        if (y is not None):\n",
    "            ax.set_title('Label ' + str(y))\n",
    "        plt.show()\n",
    "    else:\n",
    "        if (grid is None):\n",
    "            fig, ax = plt.subplots(X.shape[0])\n",
    "        else:\n",
    "            fig, ax = plt.subplots(grid[0], grid[1])\n",
    "        for i in range(X.shape[0]):\n",
    "            ax.flatten()[i].imshow(X[i])\n",
    "            ax.flatten()[i].axis('off')\n",
    "            if (y is not None):\n",
    "                ax.flatten()[i].set_title('Label ' + str(y[i]))\n",
    "        plt.show()"
   ]
  },
  {
   "cell_type": "code",
   "execution_count": 11,
   "metadata": {},
   "outputs": [
    {
     "data": {
      "image/png": "[encoded data removed]",
      "text/plain": [
       "<Figure size 432x288 with 15 Axes>"
      ]
     },
     "metadata": {
      "needs_background": "light"
     },
     "output_type": "display_data"
    }
   ],
   "source": [
    "plot_digits(mnist_X_train[:15],mnist_y_train[:15],(3,5))"
   ]
  },
  {
   "cell_type": "code",
   "execution_count": 12,
   "metadata": {},
   "outputs": [
    {
     "data": {
      "image/png": "[encoded data removed]",
      "text/plain": [
       "<Figure size 432x288 with 15 Axes>"
      ]
     },
     "metadata": {
      "needs_background": "light"
     },
     "output_type": "display_data"
    }
   ],
   "source": [
    "plot_digits(usps_X_train[:15],usps_y_train[:15],(3,5))"
   ]
  },
  {
   "cell_type": "code",
   "execution_count": 13,
   "metadata": {},
   "outputs": [],
   "source": [
    "mnist_0_4 = np.nonzero(mnist_y_train < 5)[0]\n",
    "mnist_5_9 = np.nonzero(mnist_y_train >= 5)[0]\n",
    "usps_0_4 = np.nonzero(usps_y_train < 5)[0]\n",
    "usps_5_9 = np.nonzero(usps_y_train >= 5)[0]\n",
    "svhn_0_4 = np.nonzero(svhn_y_train < 5)[0]\n",
    "svhn_5_9 = np.nonzero(svhn_y_train >= 5)[0]"
   ]
  },
  {
   "cell_type": "code",
   "execution_count": 14,
   "metadata": {},
   "outputs": [],
   "source": [
    "#same apply to test\n",
    "mnist_0_4t = np.nonzero(mnist_y_test < 5)[0]\n",
    "mnist_5_9t = np.nonzero(mnist_y_test >= 5)[0]\n",
    "usps_0_4t = np.nonzero(usps_y_test < 5)[0]\n",
    "usps_5_9t = np.nonzero(usps_y_test >= 5)[0]\n",
    "svhn_0_4t = np.nonzero(svhn_y_test < 5)[0]\n",
    "svhn_5_9t = np.nonzero(svhn_y_test >= 5)[0]"
   ]
  },
  {
   "cell_type": "markdown",
   "metadata": {},
   "source": [
    "image resize"
   ]
  },
  {
   "cell_type": "code",
   "execution_count": 15,
   "metadata": {},
   "outputs": [],
   "source": [
    "mnist_X_train = mnist_X_train[:, :, :, np.newaxis]\n",
    "mnist_X_train = tf.broadcast_to(mnist_X_train, mnist_X_train.shape[:-1] + (3,))\n",
    "mnist_X_train = tf.image.resize(mnist_X_train, (32,32))\n",
    "usps_X_train = usps_X_train[:, :, :, np.newaxis]\n",
    "usps_X_train = tf.broadcast_to(usps_X_train, usps_X_train.shape[:-1] + (3,))\n",
    "usps_X_train = tf.image.resize(usps_X_train, (32,32))\n",
    "svhn_X_train = tf.cast(tf.convert_to_tensor(svhn_X_train),'float32')"
   ]
  },
  {
   "cell_type": "code",
   "execution_count": 16,
   "metadata": {},
   "outputs": [],
   "source": [
    "#same apply  test\n",
    "mnist_X_test = mnist_X_test[:, :, :, np.newaxis]\n",
    "mnist_X_test = tf.broadcast_to(mnist_X_test, mnist_X_test.shape[:-1] + (3,))\n",
    "mnist_X_test = tf.image.resize(mnist_X_test, (32,32))\n",
    "usps_X_test = usps_X_test[:, :, :, np.newaxis]\n",
    "usps_X_test = tf.broadcast_to(usps_X_test, usps_X_test.shape[:-1] + (3,))\n",
    "usps_X_test = tf.image.resize(usps_X_test, (32,32))\n",
    "svhn_X_test = tf.cast(tf.convert_to_tensor(svhn_X_test),'float32')"
   ]
  },
  {
   "cell_type": "markdown",
   "metadata": {},
   "source": [
    "data scaling"
   ]
  },
  {
   "cell_type": "code",
   "execution_count": 17,
   "metadata": {},
   "outputs": [
    {
     "data": {
      "text/plain": [
       "(<tf.Tensor: shape=(), dtype=float32, numpy=0.0>,\n",
       " <tf.Tensor: shape=(), dtype=float32, numpy=1.0>)"
      ]
     },
     "execution_count": 17,
     "metadata": {},
     "output_type": "execute_result"
    }
   ],
   "source": [
    "mnist_X_train = mnist_X_train / 255.0\n",
    "svhn_X_train = svhn_X_train / 255.0\n",
    "tf.math.reduce_min(mnist_X_train), tf.math.reduce_max(mnist_X_train)"
   ]
  },
  {
   "cell_type": "code",
   "execution_count": 18,
   "metadata": {},
   "outputs": [
    {
     "data": {
      "text/plain": [
       "(<tf.Tensor: shape=(), dtype=float32, numpy=0.0>,\n",
       " <tf.Tensor: shape=(), dtype=float32, numpy=1.0>)"
      ]
     },
     "execution_count": 18,
     "metadata": {},
     "output_type": "execute_result"
    }
   ],
   "source": [
    "tf.math.reduce_min(svhn_X_train), tf.math.reduce_max(svhn_X_train)"
   ]
  },
  {
   "cell_type": "code",
   "execution_count": 19,
   "metadata": {},
   "outputs": [
    {
     "data": {
      "text/plain": [
       "(<tf.Tensor: shape=(), dtype=float32, numpy=0.0>,\n",
       " <tf.Tensor: shape=(), dtype=float32, numpy=1.0>)"
      ]
     },
     "execution_count": 19,
     "metadata": {},
     "output_type": "execute_result"
    }
   ],
   "source": [
    "#same apply to test\n",
    "mnist_X_test = mnist_X_test / 255.0\n",
    "svhn_X_test = svhn_X_test / 255.0\n",
    "tf.math.reduce_min(mnist_X_test), tf.math.reduce_max(mnist_X_test)"
   ]
  },
  {
   "cell_type": "code",
   "execution_count": 20,
   "metadata": {},
   "outputs": [
    {
     "data": {
      "text/plain": [
       "(<tf.Tensor: shape=(), dtype=float32, numpy=0.0>,\n",
       " <tf.Tensor: shape=(), dtype=float32, numpy=1.0>)"
      ]
     },
     "execution_count": 20,
     "metadata": {},
     "output_type": "execute_result"
    }
   ],
   "source": [
    "tf.math.reduce_min(svhn_X_test), tf.math.reduce_max(svhn_X_test)"
   ]
  },
  {
   "cell_type": "markdown",
   "metadata": {},
   "source": [
    "Normalization (disabled)"
   ]
  },
  {
   "cell_type": "code",
   "execution_count": 21,
   "metadata": {},
   "outputs": [],
   "source": [
    "mnist_train_mean = np.mean(mnist_X_train,)\n",
    "mnist_train_std  = np.std(mnist_X_train)"
   ]
  },
  {
   "cell_type": "code",
   "execution_count": 22,
   "metadata": {},
   "outputs": [
    {
     "data": {
      "text/plain": [
       "(0.13085152, 0.28923184)"
      ]
     },
     "execution_count": 22,
     "metadata": {},
     "output_type": "execute_result"
    }
   ],
   "source": [
    "mnist_train_mean, mnist_train_std"
   ]
  },
  {
   "cell_type": "code",
   "execution_count": 23,
   "metadata": {},
   "outputs": [],
   "source": [
    "usps_train_mean = np.mean(usps_X_train)\n",
    "usps_train_std  = np.std(usps_X_train)"
   ]
  },
  {
   "cell_type": "code",
   "execution_count": 24,
   "metadata": {},
   "outputs": [
    {
     "data": {
      "text/plain": [
       "(0.2544808, 0.3481659)"
      ]
     },
     "execution_count": 24,
     "metadata": {},
     "output_type": "execute_result"
    }
   ],
   "source": [
    "usps_train_mean, usps_train_std"
   ]
  },
  {
   "cell_type": "markdown",
   "metadata": {},
   "source": [
    "# General Component"
   ]
  },
  {
   "cell_type": "markdown",
   "metadata": {},
   "source": [
    "fe network"
   ]
  },
  {
   "cell_type": "code",
   "execution_count": 21,
   "metadata": {},
   "outputs": [],
   "source": [
    "def FeatureEncoder(name=None):\n",
    "    '''\n",
    "    Return a Feature Encoder.\n",
    "    '''\n",
    "    fe_input = keras.Input(shape=(32,32,3))\n",
    "    x = keras.layers.Dropout(0.2)(fe_input)\n",
    "    x = keras.layers.Conv2D(filters=64, kernel_size=5, strides=1,\n",
    "                                   padding='valid', activation='relu')(x)\n",
    "    x = keras.layers.MaxPooling2D(2, strides=2)(x)\n",
    "    x = keras.layers.Dropout(0.2)(x)\n",
    "    x = keras.layers.Conv2D(filters=64, kernel_size=5, strides=1,\n",
    "                                   padding='valid', activation='relu')(x)\n",
    "    x = keras.layers.MaxPooling2D(2, strides=2)(x)\n",
    "    x = keras.layers.Dropout(0.2)(x)\n",
    "    x = keras.layers.Conv2D(filters=128, kernel_size=5, strides=1,\n",
    "                                   padding='valid', activation='relu')(x)\n",
    "    fe_out = keras.layers.Flatten()(x)\n",
    "    if (name is None):\n",
    "        fe = keras.Model(inputs=fe_input, outputs=fe_out, name='FeatureExtractor')\n",
    "    else:\n",
    "        fe = keras.Model(inputs=fe_input, outputs=fe_out, name=name)\n",
    "    return fe"
   ]
  },
  {
   "cell_type": "code",
   "execution_count": 22,
   "metadata": {},
   "outputs": [
    {
     "name": "stdout",
     "output_type": "stream",
     "text": [
      "Model: \"FeatureExtractor\"\n",
      "_________________________________________________________________\n",
      "Layer (type)                 Output Shape              Param #   \n",
      "=================================================================\n",
      "input_1 (InputLayer)         [(None, 32, 32, 3)]       0         \n",
      "_________________________________________________________________\n",
      "dropout (Dropout)            (None, 32, 32, 3)         0         \n",
      "_________________________________________________________________\n",
      "conv2d (Conv2D)              (None, 28, 28, 64)        4864      \n",
      "_________________________________________________________________\n",
      "max_pooling2d (MaxPooling2D) (None, 14, 14, 64)        0         \n",
      "_________________________________________________________________\n",
      "dropout_1 (Dropout)          (None, 14, 14, 64)        0         \n",
      "_________________________________________________________________\n",
      "conv2d_1 (Conv2D)            (None, 10, 10, 64)        102464    \n",
      "_________________________________________________________________\n",
      "max_pooling2d_1 (MaxPooling2 (None, 5, 5, 64)          0         \n",
      "_________________________________________________________________\n",
      "dropout_2 (Dropout)          (None, 5, 5, 64)          0         \n",
      "_________________________________________________________________\n",
      "conv2d_2 (Conv2D)            (None, 1, 1, 128)         204928    \n",
      "_________________________________________________________________\n",
      "flatten (Flatten)            (None, 128)               0         \n",
      "=================================================================\n",
      "Total params: 312,256\n",
      "Trainable params: 312,256\n",
      "Non-trainable params: 0\n",
      "_________________________________________________________________\n"
     ]
    }
   ],
   "source": [
    "fe_demo = FeatureEncoder()\n",
    "fe_demo.summary()"
   ]
  },
  {
   "cell_type": "markdown",
   "metadata": {},
   "source": [
    "classcification"
   ]
  },
  {
   "cell_type": "code",
   "execution_count": 23,
   "metadata": {},
   "outputs": [],
   "source": [
    "def ClassificationNet(name=None):\n",
    "    '''\n",
    "    Return a Classification Network.\n",
    "    Input: None.\n",
    "    Output: A tuple containing the handle of input layer and output layer.\n",
    "    '''\n",
    "    cl_input = keras.Input(shape=[128])\n",
    "    x = keras.layers.Dense(128, activation='relu')(cl_input)\n",
    "    cl_out = keras.layers.Dense(5, activation='relu')(x)\n",
    "    if (name is None):\n",
    "        cl = keras.Model(inputs=cl_input, outputs=cl_out, name='ClassificationNetwork')\n",
    "    else:\n",
    "        cl = keras.Model(inputs=cl_input, outputs=cl_out, name=name)\n",
    "    return cl"
   ]
  },
  {
   "cell_type": "code",
   "execution_count": 24,
   "metadata": {},
   "outputs": [
    {
     "name": "stdout",
     "output_type": "stream",
     "text": [
      "Model: \"ClassificationNetwork\"\n",
      "_________________________________________________________________\n",
      "Layer (type)                 Output Shape              Param #   \n",
      "=================================================================\n",
      "input_2 (InputLayer)         [(None, 128)]             0         \n",
      "_________________________________________________________________\n",
      "dense (Dense)                (None, 128)               16512     \n",
      "_________________________________________________________________\n",
      "dense_1 (Dense)              (None, 5)                 645       \n",
      "=================================================================\n",
      "Total params: 17,157\n",
      "Trainable params: 17,157\n",
      "Non-trainable params: 0\n",
      "_________________________________________________________________\n"
     ]
    }
   ],
   "source": [
    "cl_demo = ClassificationNet()\n",
    "cl_demo.summary()"
   ]
  },
  {
   "cell_type": "markdown",
   "metadata": {},
   "source": [
    "# GRL Additional Component"
   ]
  },
  {
   "cell_type": "markdown",
   "metadata": {},
   "source": [
    "Flip Gradient Builder:\n",
    "The gradient reversal layer has no parameters as-sociated with it (apart from the meta-parameter λ, which is not updated by backpropagation). During the forward propagation, GRL acts as an identity transform. During the backpropagation though, GRL takes the gradient from the subsequent level, multiplies it by −λ and passes it to\n",
    "the preceding layer."
   ]
  },
  {
   "cell_type": "code",
   "execution_count": 25,
   "metadata": {},
   "outputs": [],
   "source": [
    "def flip_gradient(x, l=1.0):\n",
    "    positive_path = tf.stop_gradient(x * tf.cast(1 + l, tf.float32))\n",
    "    negative_path = -x * tf.cast(l, tf.float32)\n",
    "    return positive_path + negative_path"
   ]
  },
  {
   "cell_type": "markdown",
   "metadata": {},
   "source": [
    "Domain prediction:"
   ]
  },
  {
   "cell_type": "code",
   "execution_count": 26,
   "metadata": {},
   "outputs": [],
   "source": [
    "def DomainNet(name=None):\n",
    "    '''\n",
    "    Return a Domain Classification Network.\n",
    "    Input: None.\n",
    "    Output: A tuple containing the handle of input layer and output layer.\n",
    "    '''\n",
    "    dl_input = keras.Input(shape=[128])\n",
    "    x = keras.layers.Dense(128, activation='relu')(dl_input)\n",
    "    '''source/target, output shape = 2'''\n",
    "    dl_out = keras.layers.Dense(2, activation='relu')(x)\n",
    "    if (name is None):\n",
    "        dl = keras.Model(inputs=dl_input, outputs=dl_out, name='DomainClassificationNetwork')\n",
    "    else:\n",
    "        dl = keras.Model(inputs=dl_input, outputs=dl_out, name=name)\n",
    "    return dl"
   ]
  },
  {
   "cell_type": "code",
   "execution_count": 27,
   "metadata": {},
   "outputs": [
    {
     "name": "stdout",
     "output_type": "stream",
     "text": [
      "Model: \"DomainClassificationNetwork\"\n",
      "_________________________________________________________________\n",
      "Layer (type)                 Output Shape              Param #   \n",
      "=================================================================\n",
      "input_3 (InputLayer)         [(None, 128)]             0         \n",
      "_________________________________________________________________\n",
      "dense_2 (Dense)              (None, 128)               16512     \n",
      "_________________________________________________________________\n",
      "dense_3 (Dense)              (None, 2)                 258       \n",
      "=================================================================\n",
      "Total params: 16,770\n",
      "Trainable params: 16,770\n",
      "Non-trainable params: 0\n",
      "_________________________________________________________________\n"
     ]
    }
   ],
   "source": [
    "dl_demo = DomainNet()\n",
    "dl_demo.summary()"
   ]
  },
  {
   "cell_type": "markdown",
   "metadata": {},
   "source": [
    "# GRL Model"
   ]
  },
  {
   "cell_type": "markdown",
   "metadata": {},
   "source": [
    "Wiring up the component:"
   ]
  },
  {
   "cell_type": "code",
   "execution_count": 28,
   "metadata": {},
   "outputs": [],
   "source": [
    "# Input layer\n",
    "grl_input_src = keras.Input(shape=(32,32,3), name=\"SourceInput\")\n",
    "grl_input_tgt = keras.Input(shape=(32,32,3), name=\"TargetInput\")\n",
    "\"no source input skip\"\n",
    "\n",
    "# Fed to the same feature extractor\n",
    "grl_fe = FeatureEncoder()\n",
    "grl_fe_src = grl_fe(grl_input_src)\n",
    "grl_fe_tgt = grl_fe(grl_input_tgt)\n",
    "\n",
    "# Source representation flows to the classification network\n",
    "grl_out_cl = ClassificationNet()(grl_fe_src)\n",
    "\n",
    "# Flip the gradient when backpropagating through this operation\n",
    "grl_fe_src_feat = flip_gradient(grl_fe_src,1.0)#!!uncertain about self.l\n",
    "grl_fe_tgt_feat = flip_gradient(grl_fe_tgt,1.0)\n",
    "\n",
    "# Domain prediction\n",
    "grl_dc = DomainNet()\n",
    "grl_out_d_src = grl_dc(grl_fe_src_feat)\n",
    "grl_out_d_tgt = grl_dc(grl_fe_tgt_feat)\n",
    "\n",
    "# Final model\n",
    "mod_grl = keras.Model(\n",
    "    inputs=[grl_input_src, grl_input_tgt],\n",
    "    outputs=[grl_out_cl,   # Categorical Classifier\n",
    "             grl_out_d_src, # Sourve Domain Predictor\n",
    "             grl_out_d_tgt] # Target Domain Preductor\n",
    ")\n",
    "\n"
   ]
  },
  {
   "cell_type": "code",
   "execution_count": 29,
   "metadata": {},
   "outputs": [
    {
     "name": "stdout",
     "output_type": "stream",
     "text": [
      "Model: \"model\"\n",
      "__________________________________________________________________________________________________\n",
      "Layer (type)                    Output Shape         Param #     Connected to                     \n",
      "==================================================================================================\n",
      "SourceInput (InputLayer)        [(None, 32, 32, 3)]  0                                            \n",
      "__________________________________________________________________________________________________\n",
      "TargetInput (InputLayer)        [(None, 32, 32, 3)]  0                                            \n",
      "__________________________________________________________________________________________________\n",
      "FeatureExtractor (Functional)   (None, 128)          312256      SourceInput[0][0]                \n",
      "                                                                 TargetInput[0][0]                \n",
      "__________________________________________________________________________________________________\n",
      "tf.math.multiply (TFOpLambda)   (None, 128)          0           FeatureExtractor[0][0]           \n",
      "__________________________________________________________________________________________________\n",
      "tf.math.negative (TFOpLambda)   (None, 128)          0           FeatureExtractor[0][0]           \n",
      "__________________________________________________________________________________________________\n",
      "tf.math.multiply_2 (TFOpLambda) (None, 128)          0           FeatureExtractor[1][0]           \n",
      "__________________________________________________________________________________________________\n",
      "tf.math.negative_1 (TFOpLambda) (None, 128)          0           FeatureExtractor[1][0]           \n",
      "__________________________________________________________________________________________________\n",
      "tf.stop_gradient (TFOpLambda)   (None, 128)          0           tf.math.multiply[0][0]           \n",
      "__________________________________________________________________________________________________\n",
      "tf.math.multiply_1 (TFOpLambda) (None, 128)          0           tf.math.negative[0][0]           \n",
      "__________________________________________________________________________________________________\n",
      "tf.stop_gradient_1 (TFOpLambda) (None, 128)          0           tf.math.multiply_2[0][0]         \n",
      "__________________________________________________________________________________________________\n",
      "tf.math.multiply_3 (TFOpLambda) (None, 128)          0           tf.math.negative_1[0][0]         \n",
      "__________________________________________________________________________________________________\n",
      "tf.__operators__.add (TFOpLambd (None, 128)          0           tf.stop_gradient[0][0]           \n",
      "                                                                 tf.math.multiply_1[0][0]         \n",
      "__________________________________________________________________________________________________\n",
      "tf.__operators__.add_1 (TFOpLam (None, 128)          0           tf.stop_gradient_1[0][0]         \n",
      "                                                                 tf.math.multiply_3[0][0]         \n",
      "__________________________________________________________________________________________________\n",
      "ClassificationNetwork (Function (None, 5)            17157       FeatureExtractor[0][0]           \n",
      "__________________________________________________________________________________________________\n",
      "DomainClassificationNetwork (Fu (None, 2)            16770       tf.__operators__.add[0][0]       \n",
      "                                                                 tf.__operators__.add_1[0][0]     \n",
      "==================================================================================================\n",
      "Total params: 346,183\n",
      "Trainable params: 346,183\n",
      "Non-trainable params: 0\n",
      "__________________________________________________________________________________________________\n"
     ]
    }
   ],
   "source": [
    "mod_grl.summary()"
   ]
  },
  {
   "cell_type": "markdown",
   "metadata": {},
   "source": [
    "# Build the model:"
   ]
  },
  {
   "cell_type": "code",
   "execution_count": 30,
   "metadata": {},
   "outputs": [],
   "source": [
    "def random_batch(X, y, batch_size=32):\n",
    "    idx = np.random.randint(len(X), size=batch_size)\n",
    "    return tf.gather(X, idx), tf.gather(y, idx)"
   ]
  },
  {
   "cell_type": "code",
   "execution_count": 31,
   "metadata": {},
   "outputs": [],
   "source": [
    "def print_status_bar(iteration, total, loss=None):\n",
    "    if (loss is not None):\n",
    "        metrics = \" - \".join([\"{}: {:.4f}\".format(m.name, m.result())\n",
    "                             for m in loss])\n",
    "    else:\n",
    "        metrics = 'No loss available'\n",
    "    end = \"\" if iteration < total else \"\\n\"\n",
    "    print(\"\\r{}/{} - \".format(iteration, total) + metrics,\n",
    "          end=end)"
   ]
  },
  {
   "cell_type": "markdown",
   "metadata": {},
   "source": [
    "X_src = tf.gather(mnist_X_train, mnist_0_4)\n",
    "y_src = tf.gather(mnist_y_train, mnist_0_4)\n",
    "X_tgt = tf.gather(usps_X_train, usps_0_4)\n",
    "y_tgt = tf.gather(usps_y_train, usps_0_4)\n",
    "batch_size = 64\n",
    "n_samples = max(len(X_src), len(X_tgt))\n",
    "n_steps = n_samples // batch_size\n",
    "src_size = batch_size\n",
    "tgt_size = batch_size\n",
    "X_src_batch, y_src_batch = random_batch(X_src, y_src, src_size)\n",
    "X_tgt_batch, y_tgt_batch = random_batch(X_tgt, y_tgt, tgt_size)\n",
    "\n",
    "outputs = mod_grl((X_src_batch, X_tgt_batch), training=True)\n",
    "print(outputs[0])"
   ]
  },
  {
   "cell_type": "code",
   "execution_count": 32,
   "metadata": {},
   "outputs": [],
   "source": [
    "def train_grl_model(model, X_src, y_src, X_tgt, y_tgt, optimizers, batch_size=64, name=None):\n",
    "    # Get the sample size, number of steps, source size, and target size\n",
    "    \n",
    "    n_samples = max(len(X_src), len(X_tgt))\n",
    "    n_steps = n_samples // batch_size\n",
    "    src_size = batch_size\n",
    "    tgt_size = batch_size\n",
    "\n",
    "    # Define loss functions\n",
    "    layers = model.layers\n",
    "    cat_loss = keras.losses.CategoricalCrossentropy()\n",
    "    bin_loss = keras.losses.BinaryCrossentropy()\n",
    "    \n",
    "    \n",
    "    # Define loss metrics and the history tracker\n",
    "    loss_name = ['loss_ce','loss_domain','loss_f_total']\n",
    "    mean_loss = []\n",
    "    for l in loss_name:\n",
    "        mean_loss.append(keras.metrics.Mean(name=l))\n",
    "    history = [loss_name]\n",
    "    \n",
    "    for step in range(1, n_steps + 1):\n",
    "        # Sample a batch from source and target data\n",
    "        X_src_batch, y_src_batch = random_batch(X_src, y_src, src_size)\n",
    "        X_tgt_batch, y_tgt_batch = random_batch(X_tgt, y_tgt, tgt_size)\n",
    "        with tf.GradientTape(persistent=True) as tape:\n",
    "            # Feed-forward Network\n",
    "            outputs = model((X_src_batch, X_tgt_batch), training=True)\n",
    "            # Separate the outputs\n",
    "            out_c1 = outputs[0]\n",
    "            d_src = outputs[1]\n",
    "            d_tgt = outputs[2]\n",
    "            #out_c1, d_src, d_tgt = outputs\n",
    "            \n",
    "            #Calculate the losses\n",
    "            loss_ce = cat_loss(tf.one_hot(y_src_batch,5), keras.activations.softmax(out_c1))\n",
    "            loss_domain = (bin_loss(tf.constant([[1.]] * src_size), d_src) +\n",
    "                           bin_loss(tf.constant([[1.]] * tgt_size), d_tgt))\n",
    "            loss_f_total = loss_ce + loss_domain\n",
    "        \n",
    "        gradient_fe = tape.gradient(loss_f_total,\n",
    "                model.get_layer('FeatureExtractor').trainable_variables)\n",
    "        optimizers[0].apply_gradients(zip(gradient_fe,\n",
    "                model.get_layer('FeatureExtractor').trainable_variables))\n",
    "        gradient_ce = tape.gradient(loss_ce,\n",
    "                model.get_layer('ClassificationNetwork').trainable_variables)\n",
    "        optimizers[1].apply_gradients(zip(gradient_ce,\n",
    "                model.get_layer('ClassificationNetwork').trainable_variables))\n",
    "        gradient_domain = tape.gradient(loss_domain,\n",
    "                model.get_layer('DomainClassificationNetwork').trainable_variables)\n",
    "        optimizers[2].apply_gradients(zip(gradient_domain,\n",
    "                model.get_layer('DomainClassificationNetwork').trainable_variables))\n",
    "           \n",
    "           \n",
    "        mean_loss[0](loss_ce)\n",
    "        mean_loss[1](loss_domain)\n",
    "        mean_loss[2](loss_f_total)\n",
    "            \n",
    "        # Print Status Bar\n",
    "        print_status_bar(step * batch_size, n_samples, mean_loss)\n",
    "\n",
    "        # Save the history\n",
    "        history.append([m.result() for m in mean_loss])\n",
    "            \n",
    "        # Delete the tape\n",
    "        del(tape)\n",
    "    print_status_bar(n_samples, n_samples, mean_loss)\n",
    "    return history"
   ]
  },
  {
   "cell_type": "markdown",
   "metadata": {},
   "source": [
    "# Output of the model"
   ]
  },
  {
   "cell_type": "code",
   "execution_count": 33,
   "metadata": {},
   "outputs": [],
   "source": [
    "def model_output(model, X_src_batch, X_tgt_batch):\n",
    "    src_size = len(X_src_batch)\n",
    "    tgt_size = len(X_tgt_batch)\n",
    "\n",
    "\n",
    "    # Feed-forward Network\n",
    "    outputs = model((X_src_batch, X_tgt_batch))\n",
    "    \n",
    "    # Separate the outputs\n",
    "    out_c1, d_src, d_tgt = outputs\n",
    "    return out_c1, d_src, d_tgt\n",
    "   "
   ]
  },
  {
   "cell_type": "markdown",
   "metadata": {},
   "source": [
    "# Novelty detection"
   ]
  },
  {
   "cell_type": "code",
   "execution_count": 34,
   "metadata": {},
   "outputs": [],
   "source": [
    "def novelty_detector(model, X, c_softmax=1.0, c_gloss=1.0, c_dscore=1.0):\n",
    "    '''\n",
    "    A novelty detector based on proposed method. Output a score based on maximum softmax probability,\n",
    "    generator loss, and discriminator score.\n",
    "    '''\n",
    "    batch_size = 64\n",
    "    n_batch = len(X) // batch_size\n",
    "    softmax_score = np.array([]).reshape(0)\n",
    "    \n",
    "    \n",
    "    for i in range(n_batch):\n",
    "        s = i * batch_size\n",
    "        e = (i+1) * batch_size\n",
    "        outputs = mod_grl((X[s:e], X[s:e]))\n",
    "        out_c1, d_src, d_tgt= outputs\n",
    "        \n",
    "        softmax_score = np.concatenate((softmax_score,\n",
    "            tf.math.reduce_max(tf.nn.softmax(out_c1),\n",
    "                               axis=1)))\n",
    "        \n",
    "        \n",
    "        print_status_bar(i * batch_size, len(X))\n",
    "    \n",
    "    s = n_batch * batch_size\n",
    "    e = len(X)\n",
    "    outputs = mod_grl((X[s:e], X[s:e]))\n",
    "    out_c1, d_src, d_tgt= outputs\n",
    "\n",
    "    softmax_score = np.concatenate((softmax_score,\n",
    "        tf.math.reduce_max(tf.nn.softmax(out_c1),\n",
    "                           axis=1)))\n",
    "    \n",
    "    \n",
    "    print_status_bar(len(X), len(X))\n",
    "    \n",
    "    return softmax_score"
   ]
  },
  {
   "cell_type": "code",
   "execution_count": 35,
   "metadata": {},
   "outputs": [],
   "source": [
    "from sklearn.metrics import roc_curve, auc\n",
    "def plot_auc_curve(fpr, tpr, ax):\n",
    "    roc_auc = auc(fpr, tpr)\n",
    "    ax.plot(fpr, tpr, color='darkorange',\n",
    "             lw=2.0, label='ROC curve (area = %0.3f)' % roc_auc)\n",
    "    ax.plot([0, 1], [0, 1], color='gray', lw=1.0, linestyle='--')\n",
    "    ax.set_xlim([0.0, 1.0])\n",
    "    ax.set_ylim([0.0, 1.05])\n",
    "    ax.set_xlabel('False Positive Rate')\n",
    "    ax.set_ylabel('True Positive Rate')\n",
    "    ax.legend(loc=\"lower right\")"
   ]
  },
  {
   "cell_type": "code",
   "execution_count": null,
   "metadata": {},
   "outputs": [],
   "source": []
  },
  {
   "cell_type": "markdown",
   "metadata": {},
   "source": [
    "# minst -> usps"
   ]
  },
  {
   "cell_type": "code",
   "execution_count": 40,
   "metadata": {},
   "outputs": [
    {
     "name": "stdout",
     "output_type": "stream",
     "text": [
      "30596/30596 - loss_ce: 1.0058 - loss_domain: 30.8264 - loss_f_total: 31.8322\n"
     ]
    }
   ],
   "source": [
    "opt1 = []\n",
    "for i in range(3):\n",
    "    opt1.append(keras.optimizers.Adam(learning_rate=0.0001))\n",
    "history1 = train_grl_model(mod_grl, X_src = tf.gather(mnist_X_train, mnist_0_4),\n",
    "                          y_src = tf.gather(mnist_y_train, mnist_0_4),\n",
    "                          X_tgt = tf.gather(usps_X_train, usps_0_4),\n",
    "                          y_tgt = tf.gather(usps_y_train, usps_0_4),\n",
    "                          optimizers = opt1, batch_size=64, name='mnist_usps')"
   ]
  },
  {
   "cell_type": "code",
   "execution_count": 43,
   "metadata": {},
   "outputs": [
    {
     "name": "stdout",
     "output_type": "stream",
     "text": [
      "7291/7291 - No loss available\n"
     ]
    }
   ],
   "source": [
    "#novelty detector on target train\n",
    "X_origin = tf.gather(usps_X_train, usps_0_4)\n",
    "X_novel = tf.gather(usps_X_train, usps_5_9)\n",
    "len_origin = len(X_origin)\n",
    "len_novel = len(X_novel)\n",
    "X_tgt = tf.concat((X_origin, X_novel), axis=0)\n",
    "y_tgt1 = tf.constant([[0.]] * len_origin + [[1.]] * len_novel)\n",
    "minst_usps = novelty_detector(mod_grl, X_tgt)"
   ]
  },
  {
   "cell_type": "code",
   "execution_count": 41,
   "metadata": {},
   "outputs": [
    {
     "data": {
      "text/plain": [
       "array([0.53849334, 0.82252914, 0.81767827, ..., 0.5379318 , 0.89938325,\n",
       "       0.37323835])"
      ]
     },
     "execution_count": 41,
     "metadata": {},
     "output_type": "execute_result"
    }
   ],
   "source": [
    "minst_usps"
   ]
  },
  {
   "cell_type": "code",
   "execution_count": 44,
   "metadata": {},
   "outputs": [
    {
     "data": {
      "text/plain": [
       "Text(0.5, 1.0, 'MNIST to USPS softmax training')"
      ]
     },
     "execution_count": 44,
     "metadata": {},
     "output_type": "execute_result"
    },
    {
     "data": {
      "image/png": "[encoded data removed]",
      "text/plain": [
       "<Figure size 720x720 with 4 Axes>"
      ]
     },
     "metadata": {
      "needs_background": "light"
     },
     "output_type": "display_data"
    }
   ],
   "source": [
    "fig, ax = plt.subplots(2,2,figsize=(10,10))\n",
    "fpr, tpr, _ = roc_curve(y_tgt1, -minst_usps)\n",
    "plot_auc_curve(fpr, tpr, ax[0,1])\n",
    "ax[0,1].set_title('MNIST to USPS softmax training')"
   ]
  },
  {
   "cell_type": "markdown",
   "metadata": {},
   "source": [
    "analyze the output"
   ]
  },
  {
   "cell_type": "code",
   "execution_count": 41,
   "metadata": {},
   "outputs": [],
   "source": [
    "index = np.random.randint(0, min(len(mnist_0_4), len(usps_0_4)), 10)\n",
    "X_src, X_tgt = (tf.gather(mnist_X_train, mnist_0_4[index]), \n",
    "                tf.gather(usps_X_train, usps_0_4[index]))\n",
    "y_src, y_tgt = (tf.gather(mnist_y_train, mnist_0_4[index]),\n",
    "                tf.gather(usps_y_train, usps_0_4[index]))\n",
    "(out_c1, d_src, d_tgt) = model_output(mod_grl, X_src, X_tgt)"
   ]
  },
  {
   "cell_type": "code",
   "execution_count": 42,
   "metadata": {},
   "outputs": [
    {
     "data": {
      "text/plain": [
       "(<tf.Tensor: shape=(10, 5), dtype=float32, numpy=\n",
       " array([[0.00671557, 0.00671557, 0.9713381 , 0.0085151 , 0.00671557],\n",
       "        [0.00258955, 0.9864811 , 0.00360142, 0.00473852, 0.00258955],\n",
       "        [0.2       , 0.2       , 0.2       , 0.2       , 0.2       ],\n",
       "        [0.00439895, 0.00439895, 0.981065  , 0.00573812, 0.00439895],\n",
       "        [0.00672896, 0.00672896, 0.963469  , 0.01634398, 0.00672896],\n",
       "        [0.9878318 , 0.00187918, 0.00364771, 0.00476212, 0.00187918],\n",
       "        [0.00605653, 0.00605653, 0.9709708 , 0.01085953, 0.00605653],\n",
       "        [0.00277549, 0.97779036, 0.00806361, 0.00859511, 0.00277549],\n",
       "        [0.01590988, 0.92582715, 0.01780544, 0.02454767, 0.01590988],\n",
       "        [0.00228659, 0.00228659, 0.99085367, 0.00228659, 0.00228659]],\n",
       "       dtype=float32)>,\n",
       " <tf.Tensor: shape=(10,), dtype=int64, numpy=array([2, 1, 0, 2, 2, 0, 2, 1, 1, 2])>,\n",
       " <tf.Tensor: shape=(10,), dtype=uint8, numpy=array([2, 1, 4, 2, 2, 0, 2, 1, 1, 2], dtype=uint8)>)"
      ]
     },
     "execution_count": 42,
     "metadata": {},
     "output_type": "execute_result"
    }
   ],
   "source": [
    "tf.nn.softmax(out_c1), tf.math.argmax(out_c1,axis=1), y_src"
   ]
  },
  {
   "cell_type": "code",
   "execution_count": 47,
   "metadata": {},
   "outputs": [
    {
     "data": {
      "text/plain": [
       "<tf.Tensor: shape=(10, 2), dtype=float32, numpy=\n",
       "array([[0.5, 0.5],\n",
       "       [0.5, 0.5],\n",
       "       [0.5, 0.5],\n",
       "       [0.5, 0.5],\n",
       "       [0.5, 0.5],\n",
       "       [0.5, 0.5],\n",
       "       [0.5, 0.5],\n",
       "       [0.5, 0.5],\n",
       "       [0.5, 0.5],\n",
       "       [0.5, 0.5]], dtype=float32)>"
      ]
     },
     "execution_count": 47,
     "metadata": {},
     "output_type": "execute_result"
    }
   ],
   "source": [
    "tf.nn.softmax(d_src)"
   ]
  },
  {
   "cell_type": "code",
   "execution_count": 48,
   "metadata": {},
   "outputs": [
    {
     "data": {
      "text/plain": [
       "<tf.Tensor: shape=(10, 2), dtype=float32, numpy=\n",
       "array([[0.5, 0.5],\n",
       "       [0.5, 0.5],\n",
       "       [0.5, 0.5],\n",
       "       [0.5, 0.5],\n",
       "       [0.5, 0.5],\n",
       "       [0.5, 0.5],\n",
       "       [0.5, 0.5],\n",
       "       [0.5, 0.5],\n",
       "       [0.5, 0.5],\n",
       "       [0.5, 0.5]], dtype=float32)>"
      ]
     },
     "execution_count": 48,
     "metadata": {},
     "output_type": "execute_result"
    }
   ],
   "source": [
    "tf.nn.softmax(d_tgt)"
   ]
  },
  {
   "cell_type": "markdown",
   "metadata": {},
   "source": [
    "# svhn-> mnist"
   ]
  },
  {
   "cell_type": "code",
   "execution_count": null,
   "metadata": {},
   "outputs": [],
   "source": [
    "opt2 = []\n",
    "for i in range(3):\n",
    "    opt2.append(keras.optimizers.Adam(learning_rate=0.0001))\n",
    "\n",
    "history2 = train_grl_model(mod_grl, X_src = tf.gather(svhn_X_train, svhn_0_4),\n",
    "                           y_src = tf.gather(svhn_y_train, svhn_0_4),\n",
    "                           X_tgt = tf.gather(mnist_X_train, mnist_0_4),\n",
    "                           y_tgt = tf.gather(mnist_y_train, mnist_0_4),\n",
    "                           optimizers = opt2, batch_size=64, name='svhn_mnist')"
   ]
  },
  {
   "cell_type": "code",
   "execution_count": 50,
   "metadata": {},
   "outputs": [
    {
     "name": "stdout",
     "output_type": "stream",
     "text": [
      "60000/60000 - No loss available\n"
     ]
    }
   ],
   "source": [
    "#novelty detector on target train\n",
    "X_origin = tf.gather(mnist_X_train, mnist_0_4)\n",
    "X_novel = tf.gather(mnist_X_train, mnist_5_9)\n",
    "len_origin = len(X_origin)\n",
    "len_novel = len(X_novel)\n",
    "X_tgt = tf.concat((X_origin, X_novel), axis=0)\n",
    "y_tgt2 = tf.constant([[0.]] * len_origin + [[1.]] * len_novel)\n",
    "svhn_mnist = novelty_detector(mod_grl, X_tgt)"
   ]
  },
  {
   "cell_type": "code",
   "execution_count": 44,
   "metadata": {},
   "outputs": [
    {
     "data": {
      "text/plain": [
       "array([0.85521036, 0.2       , 0.48891205, ..., 0.92579478, 0.33247375,\n",
       "       0.2       ])"
      ]
     },
     "execution_count": 44,
     "metadata": {},
     "output_type": "execute_result"
    }
   ],
   "source": [
    "svhn_mnist"
   ]
  },
  {
   "cell_type": "code",
   "execution_count": 54,
   "metadata": {},
   "outputs": [
    {
     "data": {
      "text/plain": [
       "Text(0.5, 1.0, 'SVHN to MNIST softmax training')"
      ]
     },
     "execution_count": 54,
     "metadata": {},
     "output_type": "execute_result"
    },
    {
     "data": {
      "image/png": "[encoded data removed]",
      "text/plain": [
       "<Figure size 720x720 with 4 Axes>"
      ]
     },
     "metadata": {
      "needs_background": "light"
     },
     "output_type": "display_data"
    }
   ],
   "source": [
    "fig, ax = plt.subplots(2,2,figsize=(10,10))\n",
    "fpr, tpr, _ = roc_curve(y_tgt2, -svhn_mnist)\n",
    "plot_auc_curve(fpr, tpr, ax[0,0])\n",
    "ax[0,0].set_title('SVHN to MNIST softmax training')"
   ]
  },
  {
   "cell_type": "code",
   "execution_count": 95,
   "metadata": {},
   "outputs": [],
   "source": [
    "index = np.random.randint(0, min(len(mnist_0_4), len(svhn_0_4)), 10)\n",
    "X_src, X_tgt = (tf.gather(svhn_X_train, svhn_0_4[index]), \n",
    "                tf.gather(mnist_X_train, mnist_0_4[index]))\n",
    "y_src, y_tgt = (tf.gather(svhn_y_train, svhn_0_4[index]),\n",
    "                tf.gather(mnist_y_train, mnist_0_4[index]))\n",
    "(out_c1, d_src, d_tgt) = model_output(mod_grl, X_src, X_tgt)"
   ]
  },
  {
   "cell_type": "code",
   "execution_count": 96,
   "metadata": {},
   "outputs": [
    {
     "data": {
      "text/plain": [
       "(<tf.Tensor: shape=(10, 5), dtype=float32, numpy=\n",
       " array([[0.1026991 , 0.1026991 , 0.50956744, 0.18233524, 0.1026991 ],\n",
       "        [0.61124957, 0.09718759, 0.09718759, 0.09718759, 0.09718759],\n",
       "        [0.1556008 , 0.1556008 , 0.35466397, 0.17853366, 0.1556008 ],\n",
       "        [0.17178291, 0.07929365, 0.34636015, 0.32326967, 0.07929365],\n",
       "        [0.10296802, 0.10296802, 0.16341671, 0.52767915, 0.10296802],\n",
       "        [0.15060748, 0.1500132 , 0.16100071, 0.38836545, 0.1500132 ],\n",
       "        [0.14557217, 0.12141923, 0.3604764 , 0.25111297, 0.12141923],\n",
       "        [0.27849394, 0.10138561, 0.32432026, 0.19441456, 0.10138561],\n",
       "        [0.08141018, 0.18769804, 0.26437938, 0.38510224, 0.08141018],\n",
       "        [0.1450854 , 0.09100736, 0.531647  , 0.14125289, 0.09100736]],\n",
       "       dtype=float32)>,\n",
       " <tf.Tensor: shape=(10,), dtype=int64, numpy=array([2, 0, 2, 2, 3, 3, 2, 2, 3, 2])>,\n",
       " <tf.Tensor: shape=(10,), dtype=uint8, numpy=array([2, 1, 2, 4, 1, 2, 2, 1, 1, 3], dtype=uint8)>)"
      ]
     },
     "execution_count": 96,
     "metadata": {},
     "output_type": "execute_result"
    }
   ],
   "source": [
    "tf.nn.softmax(out_c1), tf.math.argmax(out_c1,axis=1), y_src"
   ]
  },
  {
   "cell_type": "markdown",
   "metadata": {},
   "source": [
    "# usps -> mnist"
   ]
  },
  {
   "cell_type": "code",
   "execution_count": 56,
   "metadata": {},
   "outputs": [
    {
     "name": "stdout",
     "output_type": "stream",
     "text": [
      "30596/30596 - loss_ce: 0.3506 - loss_domain: 30.8472 - loss_f_total: 31.1979\n"
     ]
    }
   ],
   "source": [
    "opt3 = []\n",
    "for i in range(3):\n",
    "    opt3.append(keras.optimizers.Adam(learning_rate=0.0001))\n",
    "history3 = train_grl_model(mod_grl, X_src = tf.gather(usps_X_train, usps_0_4),\n",
    "                          y_src = tf.gather(usps_y_train, usps_0_4),\n",
    "                          X_tgt = tf.gather(mnist_X_train, mnist_0_4),\n",
    "                          y_tgt = tf.gather(mnist_y_train, mnist_0_4),\n",
    "                          optimizers = opt3, batch_size=64, name='usps_mnist')"
   ]
  },
  {
   "cell_type": "code",
   "execution_count": 57,
   "metadata": {},
   "outputs": [
    {
     "name": "stdout",
     "output_type": "stream",
     "text": [
      "60000/60000 - No loss available\n"
     ]
    }
   ],
   "source": [
    "#novelty detector on target train\n",
    "X_origin = tf.gather(mnist_X_train, mnist_0_4)\n",
    "X_novel = tf.gather(mnist_X_train, mnist_5_9)\n",
    "len_origin = len(X_origin)\n",
    "len_novel = len(X_novel)\n",
    "X_tgt = tf.concat((X_origin, X_novel), axis=0)\n",
    "y_tgt3 = tf.constant([[0.]] * len_origin + [[1.]] * len_novel)\n",
    "usps_mnist = novelty_detector(mod_grl, X_tgt)"
   ]
  },
  {
   "cell_type": "code",
   "execution_count": 58,
   "metadata": {},
   "outputs": [
    {
     "data": {
      "text/plain": [
       "array([0.9821732 , 0.2       , 0.33498764, ..., 0.58409703, 0.21139614,\n",
       "       0.31521785])"
      ]
     },
     "execution_count": 58,
     "metadata": {},
     "output_type": "execute_result"
    }
   ],
   "source": [
    "usps_mnist"
   ]
  },
  {
   "cell_type": "code",
   "execution_count": 59,
   "metadata": {},
   "outputs": [
    {
     "data": {
      "text/plain": [
       "Text(0.5, 1.0, 'USPS to MNIST softmax training')"
      ]
     },
     "execution_count": 59,
     "metadata": {},
     "output_type": "execute_result"
    },
    {
     "data": {
      "image/png": "[encoded data removed]",
      "text/plain": [
       "<Figure size 720x720 with 4 Axes>"
      ]
     },
     "metadata": {
      "needs_background": "light"
     },
     "output_type": "display_data"
    }
   ],
   "source": [
    "fig, ax = plt.subplots(2,2,figsize=(10,10))\n",
    "fpr, tpr, _ = roc_curve(y_tgt3, -usps_mnist)\n",
    "plot_auc_curve(fpr, tpr, ax[1,0])\n",
    "ax[1,0].set_title('USPS to MNIST softmax training')"
   ]
  },
  {
   "cell_type": "code",
   "execution_count": 93,
   "metadata": {},
   "outputs": [],
   "source": [
    "index = np.random.randint(0, min(len(mnist_0_4), len(usps_0_4)), 10)\n",
    "X_src, X_tgt = (tf.gather(usps_X_train, usps_0_4[index]), \n",
    "                tf.gather(mnist_X_train, mnist_0_4[index]))\n",
    "y_src, y_tgt = (tf.gather(usps_y_train, usps_0_4[index]),\n",
    "                tf.gather(mnist_y_train, mnist_0_4[index]))\n",
    "(out_c1, d_src, d_tgt) = model_output(mod_grl, X_src, X_tgt)"
   ]
  },
  {
   "cell_type": "code",
   "execution_count": 94,
   "metadata": {},
   "outputs": [
    {
     "data": {
      "text/plain": [
       "(<tf.Tensor: shape=(10, 5), dtype=float32, numpy=\n",
       " array([[2.3387219e-01, 2.5036668e-02, 6.9101769e-01, 2.5036668e-02,\n",
       "         2.5036668e-02],\n",
       "        [3.2238462e-03, 5.8048185e-02, 8.9656651e-01, 3.9257325e-02,\n",
       "         2.9041509e-03],\n",
       "        [2.0000000e-01, 2.0000000e-01, 2.0000000e-01, 2.0000000e-01,\n",
       "         2.0000000e-01],\n",
       "        [1.8613079e-03, 9.9001300e-01, 1.8613079e-03, 4.4031637e-03,\n",
       "         1.8613079e-03],\n",
       "        [1.4305860e-03, 9.8097539e-01, 1.4305860e-03, 1.4733025e-02,\n",
       "         1.4305860e-03],\n",
       "        [9.9842775e-01, 2.0934579e-04, 6.9949968e-04, 4.5402272e-04,\n",
       "         2.0934579e-04],\n",
       "        [3.8971528e-02, 1.9520693e-01, 8.0318712e-02, 6.4653128e-01,\n",
       "         3.8971528e-02],\n",
       "        [3.4419954e-04, 9.9816293e-01, 3.4419954e-04, 8.0435659e-04,\n",
       "         3.4419954e-04],\n",
       "        [1.3076302e-03, 9.7588944e-01, 1.3076302e-03, 2.0187713e-02,\n",
       "         1.3076302e-03],\n",
       "        [3.5103393e-04, 9.9788493e-01, 3.5103393e-04, 1.0619862e-03,\n",
       "         3.5103393e-04]], dtype=float32)>,\n",
       " <tf.Tensor: shape=(10,), dtype=int64, numpy=array([2, 2, 0, 1, 1, 0, 3, 1, 1, 1])>,\n",
       " <tf.Tensor: shape=(10,), dtype=int32, numpy=array([2, 2, 4, 1, 1, 0, 1, 1, 1, 1], dtype=int32)>)"
      ]
     },
     "execution_count": 94,
     "metadata": {},
     "output_type": "execute_result"
    }
   ],
   "source": [
    "tf.nn.softmax(out_c1), tf.math.argmax(out_c1,axis=1), y_src"
   ]
  },
  {
   "cell_type": "markdown",
   "metadata": {},
   "source": [
    "# svhn -> usps"
   ]
  },
  {
   "cell_type": "code",
   "execution_count": 62,
   "metadata": {},
   "outputs": [
    {
     "name": "stdout",
     "output_type": "stream",
     "text": [
      "45349/45349 - loss_ce: 1.5581 - loss_domain: 22.0301 - loss_f_total: 23.5883\n"
     ]
    }
   ],
   "source": [
    "opt4 = []\n",
    "for i in range(3):\n",
    "    opt4.append(keras.optimizers.Adam(learning_rate=0.0001))\n",
    "history4 = train_grl_model(mod_grl, X_src = tf.gather(svhn_X_train, svhn_0_4),\n",
    "                          y_src = tf.gather(svhn_y_train, svhn_0_4),\n",
    "                          X_tgt = tf.gather(usps_X_train, usps_0_4),\n",
    "                          y_tgt = tf.gather(usps_y_train, usps_0_4),\n",
    "                          optimizers = opt4, batch_size=64, name='svhn-usps')"
   ]
  },
  {
   "cell_type": "code",
   "execution_count": 63,
   "metadata": {},
   "outputs": [
    {
     "name": "stdout",
     "output_type": "stream",
     "text": [
      "7291/7291 - No loss available\n"
     ]
    }
   ],
   "source": [
    "#novelty detector on target train\n",
    "X_origin = tf.gather(usps_X_train, usps_0_4)\n",
    "X_novel = tf.gather(usps_X_train, usps_5_9)\n",
    "len_origin = len(X_origin)\n",
    "len_novel = len(X_novel)\n",
    "X_tgt = tf.concat((X_origin, X_novel), axis=0)\n",
    "y_tgt4 = tf.constant([[0.]] * len_origin + [[1.]] * len_novel)\n",
    "svhn_usps = novelty_detector(mod_grl, X_tgt)"
   ]
  },
  {
   "cell_type": "code",
   "execution_count": 64,
   "metadata": {},
   "outputs": [
    {
     "data": {
      "text/plain": [
       "array([0.24616422, 0.32070506, 0.35555738, ..., 0.325755  , 0.34897208,\n",
       "       0.32482457])"
      ]
     },
     "execution_count": 64,
     "metadata": {},
     "output_type": "execute_result"
    }
   ],
   "source": [
    "svhn_usps"
   ]
  },
  {
   "cell_type": "code",
   "execution_count": 65,
   "metadata": {},
   "outputs": [
    {
     "data": {
      "text/plain": [
       "Text(0.5, 1.0, 'SVHN to USPS softmax training')"
      ]
     },
     "execution_count": 65,
     "metadata": {},
     "output_type": "execute_result"
    },
    {
     "data": {
      "image/png": "[encoded data removed]",
      "text/plain": [
       "<Figure size 720x720 with 4 Axes>"
      ]
     },
     "metadata": {
      "needs_background": "light"
     },
     "output_type": "display_data"
    }
   ],
   "source": [
    "fig, ax = plt.subplots(2,2,figsize=(10,10))\n",
    "fpr, tpr, _ = roc_curve(y_tgt4, -svhn_usps)\n",
    "plot_auc_curve(fpr, tpr, ax[1,1])\n",
    "ax[1,1].set_title('SVHN to USPS softmax training')"
   ]
  },
  {
   "cell_type": "code",
   "execution_count": 91,
   "metadata": {},
   "outputs": [],
   "source": [
    "index = np.random.randint(0, min(len(svhn_0_4), len(usps_0_4)), 10)\n",
    "X_src, X_tgt = (tf.gather(svhn_X_train, svhn_0_4[index]), \n",
    "                tf.gather(usps_X_train, usps_0_4[index]))\n",
    "y_src, y_tgt = (tf.gather(svhn_y_train, svhn_0_4[index]),\n",
    "                tf.gather(usps_y_train, usps_0_4[index]))\n",
    "(out_c1, d_src, d_tgt) = model_output(mod_grl, X_src, X_tgt)"
   ]
  },
  {
   "cell_type": "code",
   "execution_count": 92,
   "metadata": {},
   "outputs": [
    {
     "data": {
      "text/plain": [
       "(<tf.Tensor: shape=(10, 5), dtype=float32, numpy=\n",
       " array([[0.07544554, 0.07544554, 0.24768567, 0.52597773, 0.07544554],\n",
       "        [0.09973572, 0.09973572, 0.24391536, 0.4568775 , 0.09973572],\n",
       "        [0.08442004, 0.03331068, 0.5501029 , 0.29885572, 0.03331068],\n",
       "        [0.1388375 , 0.1388375 , 0.31716198, 0.26632553, 0.1388375 ],\n",
       "        [0.12625729, 0.12625729, 0.34797966, 0.2732485 , 0.12625729],\n",
       "        [0.12553607, 0.09025401, 0.5686307 , 0.12532519, 0.09025401],\n",
       "        [0.20735498, 0.19816124, 0.19816124, 0.19816124, 0.19816124],\n",
       "        [0.17246413, 0.15099758, 0.29393315, 0.23160751, 0.15099758],\n",
       "        [0.16536637, 0.15580906, 0.2742915 , 0.24872398, 0.15580906],\n",
       "        [0.17034763, 0.09165979, 0.26179352, 0.3845393 , 0.09165978]],\n",
       "       dtype=float32)>,\n",
       " <tf.Tensor: shape=(10,), dtype=int64, numpy=array([3, 3, 2, 2, 2, 2, 0, 2, 2, 3])>,\n",
       " <tf.Tensor: shape=(10,), dtype=uint8, numpy=array([1, 3, 2, 4, 2, 3, 0, 1, 0, 4], dtype=uint8)>)"
      ]
     },
     "execution_count": 92,
     "metadata": {},
     "output_type": "execute_result"
    }
   ],
   "source": [
    "tf.nn.softmax(out_c1), tf.math.argmax(out_c1,axis=1), y_src"
   ]
  },
  {
   "cell_type": "markdown",
   "metadata": {},
   "source": [
    "4 plots together"
   ]
  },
  {
   "cell_type": "code",
   "execution_count": 66,
   "metadata": {},
   "outputs": [
    {
     "data": {
      "text/plain": [
       "Text(0.5, 1.0, 'SVHN to USPS softmax training')"
      ]
     },
     "execution_count": 66,
     "metadata": {},
     "output_type": "execute_result"
    },
    {
     "data": {
      "image/png": "[encoded data removed]",
      "text/plain": [
       "<Figure size 720x720 with 4 Axes>"
      ]
     },
     "metadata": {
      "needs_background": "light"
     },
     "output_type": "display_data"
    }
   ],
   "source": [
    "fig, ax = plt.subplots(2,2,figsize=(10,10))\n",
    "fpr, tpr, _ = roc_curve(y_tgt1, -minst_usps)\n",
    "plot_auc_curve(fpr, tpr, ax[0,1])\n",
    "ax[0,1].set_title('MNIST to USPS softmax training')\n",
    "fpr, tpr, _ = roc_curve(y_tgt2, -svhn_mnist)\n",
    "plot_auc_curve(fpr, tpr, ax[0,0])\n",
    "ax[0,0].set_title('SVHN to MNIST softmax training')\n",
    "fpr, tpr, _ = roc_curve(y_tgt3, -usps_mnist)\n",
    "plot_auc_curve(fpr, tpr, ax[1,0])\n",
    "ax[1,0].set_title('USPS to MNIST softmax training')\n",
    "fpr, tpr, _ = roc_curve(y_tgt4, -svhn_usps)\n",
    "plot_auc_curve(fpr, tpr, ax[1,1])\n",
    "ax[1,1].set_title('SVHN to USPS softmax training')"
   ]
  },
  {
   "cell_type": "markdown",
   "metadata": {},
   "source": [
    "new dataset"
   ]
  },
  {
   "cell_type": "code",
   "execution_count": null,
   "metadata": {},
   "outputs": [],
   "source": []
  }
 ],
 "metadata": {
  "kernelspec": {
   "display_name": "Python 3",
   "language": "python",
   "name": "python3"
  },
  "language_info": {
   "codemirror_mode": {
    "name": "ipython",
    "version": 3
   },
   "file_extension": ".py",
   "mimetype": "text/x-python",
   "name": "python",
   "nbconvert_exporter": "python",
   "pygments_lexer": "ipython3",
   "version": "3.7.6"
  }
 },
 "nbformat": 4,
 "nbformat_minor": 4
}
