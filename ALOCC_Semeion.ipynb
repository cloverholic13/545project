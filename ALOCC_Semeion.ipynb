{
  "nbformat": 4,
  "nbformat_minor": 0,
  "metadata": {
    "colab": {
      "name": "ALOCC_Semeion.ipynb",
      "provenance": [],
      "collapsed_sections": []
    },
    "kernelspec": {
      "name": "python3",
      "display_name": "Python 3"
    },
    "accelerator": "GPU"
  },
  "cells": [
    {
      "cell_type": "code",
      "metadata": {
        "id": "c-yqTOUMEZIY"
      },
      "source": [
        "import numpy as np\n",
        "import matplotlib.pyplot as plt\n",
        "import seaborn as sns\n",
        "\n",
        "# Tensorflow or PyTorch?\n",
        "import tensorflow as tf\n",
        "from tensorflow import keras\n",
        "\n",
        "import os\n",
        "import h5py\n",
        "import scipy.io as sio\n",
        "import time\n",
        "from sklearn.metrics import roc_curve, auc\n",
        "from sklearn.model_selection import train_test_split\n",
        "import torch"
      ],
      "execution_count": null,
      "outputs": []
    },
    {
      "cell_type": "code",
      "metadata": {
        "colab": {
          "base_uri": "https://localhost:8080/"
        },
        "id": "BZK0MOc4ExUn",
        "outputId": "ba953e78-bfb7-4a49-f973-70d5170dd57e"
      },
      "source": [
        "tf.config.experimental.list_physical_devices('GPU')"
      ],
      "execution_count": null,
      "outputs": [
        {
          "output_type": "execute_result",
          "data": {
            "text/plain": [
              "[PhysicalDevice(name='/physical_device:GPU:0', device_type='GPU')]"
            ]
          },
          "metadata": {
            "tags": []
          },
          "execution_count": 2
        }
      ]
    },
    {
      "cell_type": "code",
      "metadata": {
        "id": "gwtVRAogEyXv",
        "colab": {
          "base_uri": "https://localhost:8080/"
        },
        "outputId": "d5c71b45-20a2-4cb1-c660-d6affb4cc95a"
      },
      "source": [
        "try:\n",
        "    from google.colab import drive\n",
        "    if (not os.path.exists('/content/drive/MyDrive/545_project')):\n",
        "        drive.mount('/content/drive')\n",
        "    filepath = '/content/drive/MyDrive/545_project'\n",
        "    IN_COLAB = True\n",
        "except:\n",
        "    IN_COLAB = False\n",
        "    filepath = ''"
      ],
      "execution_count": null,
      "outputs": [
        {
          "output_type": "stream",
          "text": [
            "Mounted at /content/drive\n"
          ],
          "name": "stdout"
        }
      ]
    },
    {
      "cell_type": "markdown",
      "metadata": {
        "id": "B7mMpnh0FFtf"
      },
      "source": [
        "# **Data**"
      ]
    },
    {
      "cell_type": "markdown",
      "metadata": {
        "id": "n2JlSEgbFM8k"
      },
      "source": [
        "Data Loading"
      ]
    },
    {
      "cell_type": "code",
      "metadata": {
        "colab": {
          "base_uri": "https://localhost:8080/"
        },
        "id": "Vrkq277LFPod",
        "outputId": "8f5fe663-356c-4d89-934c-00725afb8e1a"
      },
      "source": [
        "# MNIST Dataset\n",
        "(mnist_X_train, mnist_y_train), (mnist_X_test, mnist_y_test) = keras.datasets.mnist.load_data()\n",
        "\n",
        "mnist_X_train.shape, mnist_y_train.shape, mnist_X_test.shape, mnist_y_test.shape"
      ],
      "execution_count": null,
      "outputs": [
        {
          "output_type": "stream",
          "text": [
            "Downloading data from https://storage.googleapis.com/tensorflow/tf-keras-datasets/mnist.npz\n",
            "11493376/11490434 [==============================] - 0s 0us/step\n"
          ],
          "name": "stdout"
        },
        {
          "output_type": "execute_result",
          "data": {
            "text/plain": [
              "((60000, 28, 28), (60000,), (10000, 28, 28), (10000,))"
            ]
          },
          "metadata": {
            "tags": []
          },
          "execution_count": 4
        }
      ]
    },
    {
      "cell_type": "code",
      "metadata": {
        "colab": {
          "base_uri": "https://localhost:8080/"
        },
        "id": "RfgWgom0FaB_",
        "outputId": "269fb279-84a8-4af2-be56-20a9599a9b87"
      },
      "source": [
        "mnist_X_train = mnist_X_train.astype('float32')\n",
        "mnist_X_test = mnist_X_test.astype('float32')\n",
        "mnist_X_train.dtype"
      ],
      "execution_count": null,
      "outputs": [
        {
          "output_type": "execute_result",
          "data": {
            "text/plain": [
              "dtype('float32')"
            ]
          },
          "metadata": {
            "tags": []
          },
          "execution_count": 5
        }
      ]
    },
    {
      "cell_type": "code",
      "metadata": {
        "id": "V2s-DbloESY4"
      },
      "source": [
        "semeion = np.loadtxt(os.path.join(filepath, 'semeion.data'))\r\n",
        "semeion_X = semeion[:,:256].reshape((-1,16,16))\r\n",
        "semeion_y = np.argmax(semeion[:,256:],axis=1)\r\n",
        "(semeion_X_train, semeion_X_test,\r\n",
        " semeion_y_train, semeion_y_test) = train_test_split(semeion_X, semeion_y,\r\n",
        "                                                    test_size=0.2,\r\n",
        "                                                    random_state=42,\r\n",
        "                                                    stratify=semeion_y)"
      ],
      "execution_count": null,
      "outputs": []
    },
    {
      "cell_type": "code",
      "metadata": {
        "colab": {
          "base_uri": "https://localhost:8080/"
        },
        "id": "geETMFYIErFJ",
        "outputId": "974861af-3efc-452f-dfa2-a6e7aff2634d"
      },
      "source": [
        "semeion_X_train.shape, semeion_y_train.shape, semeion_X_test.shape, semeion_y_test.shape"
      ],
      "execution_count": null,
      "outputs": [
        {
          "output_type": "execute_result",
          "data": {
            "text/plain": [
              "((1274, 16, 16), (1274,), (319, 16, 16), (319,))"
            ]
          },
          "metadata": {
            "tags": []
          },
          "execution_count": 7
        }
      ]
    },
    {
      "cell_type": "markdown",
      "metadata": {
        "id": "mvBf4hEZGUC-"
      },
      "source": [
        "# **Visualize the Samples**"
      ]
    },
    {
      "cell_type": "code",
      "metadata": {
        "id": "tg-aMKyRGhCO"
      },
      "source": [
        "def plot_digits(X, y=None, grid=None, ax=None, mean=0.0, std=1.0):\n",
        "    if (X.ndim==2):\n",
        "        if (ax is None):\n",
        "            fig, ax = plt.subplots()\n",
        "        ax.imshow(X * std + mean, cmap='gray')\n",
        "        ax.axis('off')\n",
        "        if (y is not None):\n",
        "            ax.set_title('Label ' + str(y))\n",
        "        plt.show()\n",
        "    else:\n",
        "        if (ax is None):\n",
        "            if (grid is None):\n",
        "                fig, ax = plt.subplots(X.shape[0])\n",
        "            else:\n",
        "                fig, ax = plt.subplots(grid[0], grid[1])\n",
        "        for i in range(X.shape[0]):\n",
        "            ax.flatten()[i].imshow(X[i] * std + mean, cmap='gray')\n",
        "            ax.flatten()[i].axis('off')\n",
        "            if (y is not None):\n",
        "                ax.flatten()[i].set_title('Label ' + str(y[i]))\n",
        "        plt.show()\n",
        "        \n",
        "def plot_color_digits(X, y=None, grid=None, ax=None, mean=0.0, std=1.0):\n",
        "    if (X.ndim==3):\n",
        "        if (ax is None):\n",
        "            fig, ax = plt.subplots()\n",
        "        ax.imshow(X * std + mean)\n",
        "        ax.axis('off')\n",
        "        if (y is not None):\n",
        "            ax.set_title('Label ' + str(y))\n",
        "        plt.show()\n",
        "    else:\n",
        "        if (ax is None):\n",
        "            if (grid is None):\n",
        "                fig, ax = plt.subplots(X.shape[0])\n",
        "            else:\n",
        "                fig, ax = plt.subplots(grid[0], grid[1])\n",
        "        for i in range(X.shape[0]):\n",
        "            ax.flatten()[i].imshow(X[i] * std + mean)\n",
        "            ax.flatten()[i].axis('off')\n",
        "            if (y is not None):\n",
        "                ax.flatten()[i].set_title('Label ' + str(y[i]))\n",
        "        plt.show()"
      ],
      "execution_count": null,
      "outputs": []
    },
    {
      "cell_type": "code",
      "metadata": {
        "colab": {
          "base_uri": "https://localhost:8080/",
          "height": 258
        },
        "id": "8RHFJhxwGm0e",
        "outputId": "88da6d23-070b-4ef2-eb3b-62612be07bde"
      },
      "source": [
        "plot_digits(mnist_X_train[:15],mnist_y_train[:15],(3,5))"
      ],
      "execution_count": null,
      "outputs": [
        {
          "output_type": "display_data",
          "data": {
            "image/png": "[encoded data removed]",
            "text/plain": [
              "<Figure size 432x288 with 15 Axes>"
            ]
          },
          "metadata": {
            "tags": [],
            "needs_background": "light"
          }
        }
      ]
    },
    {
      "cell_type": "code",
      "metadata": {
        "colab": {
          "base_uri": "https://localhost:8080/",
          "height": 258
        },
        "id": "Z28c3730GnQk",
        "outputId": "8825f5e1-b407-4cd9-ab78-b097a4ebe2cb"
      },
      "source": [
        "plot_digits(semeion_X_train[:15],semeion_y_train[:15],(3,5))"
      ],
      "execution_count": null,
      "outputs": [
        {
          "output_type": "display_data",
          "data": {
            "image/png": "[encoded data removed]",
            "text/plain": [
              "<Figure size 432x288 with 15 Axes>"
            ]
          },
          "metadata": {
            "tags": [],
            "needs_background": "light"
          }
        }
      ]
    },
    {
      "cell_type": "markdown",
      "metadata": {
        "id": "QyMsmdUlHKgw"
      },
      "source": [
        "**Data Preprocessing**"
      ]
    },
    {
      "cell_type": "code",
      "metadata": {
        "id": "fMiHjDB8HO8_"
      },
      "source": [
        "mnist_0_4 = np.nonzero(mnist_y_train < 5)[0]\n",
        "mnist_5_9 = np.nonzero(mnist_y_train >= 5)[0]\n",
        "semeion_0_4 = np.nonzero(semeion_y_train < 5)[0]\n",
        "semeion_5_9 = np.nonzero(semeion_y_train >= 5)[0]"
      ],
      "execution_count": null,
      "outputs": []
    },
    {
      "cell_type": "code",
      "metadata": {
        "id": "cIjBtv8CHUWP"
      },
      "source": [
        "mnist_0_4t = np.nonzero(mnist_y_test < 5)[0]\n",
        "mnist_5_9t = np.nonzero(mnist_y_test >= 5)[0]\n",
        "semeion_0_4t = np.nonzero(semeion_y_test < 5)[0]\n",
        "semeion_5_9t = np.nonzero(semeion_y_test >= 5)[0]"
      ],
      "execution_count": null,
      "outputs": []
    },
    {
      "cell_type": "markdown",
      "metadata": {
        "id": "3qG4_g6IHlZO"
      },
      "source": [
        "**Image Resize**"
      ]
    },
    {
      "cell_type": "code",
      "metadata": {
        "id": "hb1aiKJoHnSe"
      },
      "source": [
        "mnist_X_train = mnist_X_train[:, :, :, np.newaxis]\n",
        "mnist_X_train = tf.broadcast_to(mnist_X_train, mnist_X_train.shape[:-1] + (3,))\n",
        "mnist_X_train = tf.image.resize(mnist_X_train, (32,32))"
      ],
      "execution_count": null,
      "outputs": []
    },
    {
      "cell_type": "code",
      "metadata": {
        "colab": {
          "base_uri": "https://localhost:8080/"
        },
        "id": "FDjnom8GHq_e",
        "outputId": "9f914ad0-9bf1-47ac-d2e2-b89e2a408fd3"
      },
      "source": [
        "mnist_X_train.shape"
      ],
      "execution_count": null,
      "outputs": [
        {
          "output_type": "execute_result",
          "data": {
            "text/plain": [
              "TensorShape([60000, 32, 32, 3])"
            ]
          },
          "metadata": {
            "tags": []
          },
          "execution_count": 14
        }
      ]
    },
    {
      "cell_type": "code",
      "metadata": {
        "id": "teRmk8z9G0cC"
      },
      "source": [
        "semeion_X_train = semeion_X_train[:, :, :, np.newaxis]\r\n",
        "semeion_X_train = tf.broadcast_to(semeion_X_train, semeion_X_train.shape[:-1] + (3,))\r\n",
        "semeion_X_train = tf.image.resize(semeion_X_train, (32,32))"
      ],
      "execution_count": null,
      "outputs": []
    },
    {
      "cell_type": "code",
      "metadata": {
        "colab": {
          "base_uri": "https://localhost:8080/"
        },
        "id": "iuM1_oKAG15O",
        "outputId": "09c8f25c-f812-4930-d909-dc60443dcf19"
      },
      "source": [
        "semeion_X_train.shape"
      ],
      "execution_count": null,
      "outputs": [
        {
          "output_type": "execute_result",
          "data": {
            "text/plain": [
              "TensorShape([1274, 32, 32, 3])"
            ]
          },
          "metadata": {
            "tags": []
          },
          "execution_count": 16
        }
      ]
    },
    {
      "cell_type": "code",
      "metadata": {
        "id": "tjX9kaawIXqR"
      },
      "source": [
        "mnist_X_test = mnist_X_test[:, :, :, np.newaxis]\n",
        "mnist_X_test = tf.broadcast_to(mnist_X_test, mnist_X_test.shape[:-1] + (3,))\n",
        "mnist_X_test = tf.image.resize(mnist_X_test, (32,32))"
      ],
      "execution_count": null,
      "outputs": []
    },
    {
      "cell_type": "code",
      "metadata": {
        "colab": {
          "base_uri": "https://localhost:8080/"
        },
        "id": "aq90p7EgIZCp",
        "outputId": "c92452e1-c301-4775-92b3-3eb392a88289"
      },
      "source": [
        "mnist_X_test.shape"
      ],
      "execution_count": null,
      "outputs": [
        {
          "output_type": "execute_result",
          "data": {
            "text/plain": [
              "TensorShape([10000, 32, 32, 3])"
            ]
          },
          "metadata": {
            "tags": []
          },
          "execution_count": 18
        }
      ]
    },
    {
      "cell_type": "code",
      "metadata": {
        "id": "dRAQtwzBFb6_"
      },
      "source": [
        "semeion_X_test = semeion_X_test[:, :, :, np.newaxis]\r\n",
        "semeion_X_test = tf.broadcast_to(semeion_X_test, semeion_X_test.shape[:-1] + (3,))\r\n",
        "semeion_X_test = tf.image.resize(semeion_X_test, (32,32))"
      ],
      "execution_count": null,
      "outputs": []
    },
    {
      "cell_type": "code",
      "metadata": {
        "colab": {
          "base_uri": "https://localhost:8080/"
        },
        "id": "PzH5SWmYFdhe",
        "outputId": "f85c7e1d-c15b-4815-b7e3-4037f46fc0e7"
      },
      "source": [
        "semeion_X_test.shape"
      ],
      "execution_count": null,
      "outputs": [
        {
          "output_type": "execute_result",
          "data": {
            "text/plain": [
              "TensorShape([319, 32, 32, 3])"
            ]
          },
          "metadata": {
            "tags": []
          },
          "execution_count": 20
        }
      ]
    },
    {
      "cell_type": "markdown",
      "metadata": {
        "id": "XbZ66fspIfKa"
      },
      "source": [
        "**Data Scaling**"
      ]
    },
    {
      "cell_type": "code",
      "metadata": {
        "colab": {
          "base_uri": "https://localhost:8080/"
        },
        "id": "CEf0_HJiIhU5",
        "outputId": "5e7de26f-8aa1-42a1-e147-2976bf92ff4d"
      },
      "source": [
        "tf.math.reduce_min(mnist_X_train), tf.math.reduce_max(mnist_X_train)"
      ],
      "execution_count": null,
      "outputs": [
        {
          "output_type": "execute_result",
          "data": {
            "text/plain": [
              "(<tf.Tensor: shape=(), dtype=float32, numpy=0.0>,\n",
              " <tf.Tensor: shape=(), dtype=float32, numpy=255.0>)"
            ]
          },
          "metadata": {
            "tags": []
          },
          "execution_count": 21
        }
      ]
    },
    {
      "cell_type": "code",
      "metadata": {
        "colab": {
          "base_uri": "https://localhost:8080/"
        },
        "id": "GJ4shvp3ISsk",
        "outputId": "00e970ba-1938-40a3-eec7-379ed4360b53"
      },
      "source": [
        "tf.math.reduce_min(semeion_X_train), tf.math.reduce_max(semeion_X_train)"
      ],
      "execution_count": null,
      "outputs": [
        {
          "output_type": "execute_result",
          "data": {
            "text/plain": [
              "(<tf.Tensor: shape=(), dtype=float32, numpy=0.0>,\n",
              " <tf.Tensor: shape=(), dtype=float32, numpy=1.0>)"
            ]
          },
          "metadata": {
            "tags": []
          },
          "execution_count": 22
        }
      ]
    },
    {
      "cell_type": "code",
      "metadata": {
        "id": "eC8Bp3SDIW50"
      },
      "source": [
        "mnist_X_train = mnist_X_train / 255.0"
      ],
      "execution_count": null,
      "outputs": []
    },
    {
      "cell_type": "code",
      "metadata": {
        "colab": {
          "base_uri": "https://localhost:8080/"
        },
        "id": "nMt_aTApIYoh",
        "outputId": "ab0591fd-d656-4d59-92d6-94e57c09c959"
      },
      "source": [
        "tf.math.reduce_min(mnist_X_train), tf.math.reduce_max(mnist_X_train)"
      ],
      "execution_count": null,
      "outputs": [
        {
          "output_type": "execute_result",
          "data": {
            "text/plain": [
              "(<tf.Tensor: shape=(), dtype=float32, numpy=0.0>,\n",
              " <tf.Tensor: shape=(), dtype=float32, numpy=1.0>)"
            ]
          },
          "metadata": {
            "tags": []
          },
          "execution_count": 24
        }
      ]
    },
    {
      "cell_type": "code",
      "metadata": {
        "id": "HHrcouGZIa0D"
      },
      "source": [
        "mnist_X_test = mnist_X_test / 255.0"
      ],
      "execution_count": null,
      "outputs": []
    },
    {
      "cell_type": "code",
      "metadata": {
        "colab": {
          "base_uri": "https://localhost:8080/"
        },
        "id": "VcdrWw4aIb_z",
        "outputId": "24c82dce-fd80-4ded-887a-ce48a8844088"
      },
      "source": [
        "tf.math.reduce_min(mnist_X_test), tf.math.reduce_max(mnist_X_test)"
      ],
      "execution_count": null,
      "outputs": [
        {
          "output_type": "execute_result",
          "data": {
            "text/plain": [
              "(<tf.Tensor: shape=(), dtype=float32, numpy=0.0>,\n",
              " <tf.Tensor: shape=(), dtype=float32, numpy=1.0>)"
            ]
          },
          "metadata": {
            "tags": []
          },
          "execution_count": 26
        }
      ]
    },
    {
      "cell_type": "markdown",
      "metadata": {
        "id": "miRdTGO1IvFs"
      },
      "source": [
        "**Data Normalization**"
      ]
    },
    {
      "cell_type": "code",
      "metadata": {
        "id": "uCJkL2kZIxx7"
      },
      "source": [
        "mnist_train_mean = np.mean(mnist_X_train,)\n",
        "mnist_train_std  = np.std(mnist_X_train)\n",
        "# Centering\n",
        "mnist_X_train    = mnist_X_train - mnist_train_mean\n",
        "mnist_X_test     = mnist_X_test - mnist_train_mean\n",
        "\n",
        "# Standardization\n",
        "# mnist_X_train    = mnist_X_train / mnist_train_std\n",
        "# mnist_X_test     = mnist_X_test / mnist_train_std"
      ],
      "execution_count": null,
      "outputs": []
    },
    {
      "cell_type": "code",
      "metadata": {
        "colab": {
          "base_uri": "https://localhost:8080/"
        },
        "id": "e62AV4zhI0E7",
        "outputId": "7cff57eb-d242-45d3-ad34-f842761542ba"
      },
      "source": [
        "mnist_train_mean, mnist_train_std"
      ],
      "execution_count": null,
      "outputs": [
        {
          "output_type": "execute_result",
          "data": {
            "text/plain": [
              "(0.13085152, 0.28923184)"
            ]
          },
          "metadata": {
            "tags": []
          },
          "execution_count": 28
        }
      ]
    },
    {
      "cell_type": "code",
      "metadata": {
        "id": "D8pHfU_GIoTV"
      },
      "source": [
        "semeion_train_mean = np.mean(semeion_X_train)\r\n",
        "semeion_train_std  = np.std(semeion_X_train)\r\n",
        "# Centering\r\n",
        "semeion_X_train    = semeion_X_train - semeion_train_mean\r\n",
        "semeion_X_test     = semeion_X_test - semeion_train_mean\r\n",
        "\r\n",
        "# Standardization\r\n",
        "# semeion_X_train    = semeion_X_train / semeion_train_std\r\n",
        "# semeion_X_test     = semeion_X_test / semeion_train_std"
      ],
      "execution_count": null,
      "outputs": []
    },
    {
      "cell_type": "code",
      "metadata": {
        "colab": {
          "base_uri": "https://localhost:8080/"
        },
        "id": "2eB3fRltIrjw",
        "outputId": "a99ac129-665e-440e-c8a8-ad31e9c78549"
      },
      "source": [
        "semeion_train_mean, semeion_train_std"
      ],
      "execution_count": null,
      "outputs": [
        {
          "output_type": "execute_result",
          "data": {
            "text/plain": [
              "(0.32774174, 0.40350488)"
            ]
          },
          "metadata": {
            "tags": []
          },
          "execution_count": 30
        }
      ]
    },
    {
      "cell_type": "code",
      "metadata": {
        "id": "aDM__qhWItMa"
      },
      "source": [
        "# mnist_train_mean = 0.0\r\n",
        "mnist_train_std  = 1.0\r\n",
        "# semeion_train_mean = 0.0\r\n",
        "semeion_train_std  = 1.0"
      ],
      "execution_count": null,
      "outputs": []
    },
    {
      "cell_type": "markdown",
      "metadata": {
        "id": "HSBmFzh-I7Rr"
      },
      "source": [
        "# **Model Components**"
      ]
    },
    {
      "cell_type": "markdown",
      "metadata": {
        "id": "oniFdnFNJwhu"
      },
      "source": [
        "**Feature Encoder Network**"
      ]
    },
    {
      "cell_type": "code",
      "metadata": {
        "id": "-SOyfAJbI-y6"
      },
      "source": [
        "def FeatureEncoder(name=None):\n",
        "    '''\n",
        "    Return a Feature Encoder.\n",
        "    '''\n",
        "    fe_input = keras.Input(shape=(32,32,3))\n",
        "    x = keras.layers.Dropout(0.2)(fe_input)\n",
        "    x = keras.layers.Conv2D(filters=64, kernel_size=5, strides=1,\n",
        "                                   padding='valid', activation='relu')(x)\n",
        "    x = keras.layers.MaxPooling2D(2, strides=2)(x)\n",
        "    x = keras.layers.Dropout(0.2)(x)\n",
        "    x = keras.layers.Conv2D(filters=64, kernel_size=5, strides=1,\n",
        "                                   padding='valid', activation='relu')(x)\n",
        "    x = keras.layers.MaxPooling2D(2, strides=2)(x)\n",
        "    x = keras.layers.Dropout(0.2)(x)\n",
        "    x = keras.layers.Conv2D(filters=128, kernel_size=5, strides=1,\n",
        "                                   padding='valid', activation='relu')(x)\n",
        "    fe_out = keras.layers.Flatten()(x)\n",
        "    if (name is None):\n",
        "        fe = keras.Model(inputs=fe_input, outputs=fe_out, name='FeatureExtractor')\n",
        "    else:\n",
        "        fe = keras.Model(inputs=fe_input, outputs=fe_out, name=name)\n",
        "    return fe"
      ],
      "execution_count": null,
      "outputs": []
    },
    {
      "cell_type": "code",
      "metadata": {
        "colab": {
          "base_uri": "https://localhost:8080/"
        },
        "id": "EJbRWuAOJBAr",
        "outputId": "3d3a158c-0c4a-450c-eaa4-a84ecf383838"
      },
      "source": [
        "fe_demo = FeatureEncoder()\n",
        "fe_demo.summary()"
      ],
      "execution_count": null,
      "outputs": [
        {
          "output_type": "stream",
          "text": [
            "Model: \"FeatureExtractor\"\n",
            "_________________________________________________________________\n",
            "Layer (type)                 Output Shape              Param #   \n",
            "=================================================================\n",
            "input_1 (InputLayer)         [(None, 32, 32, 3)]       0         \n",
            "_________________________________________________________________\n",
            "dropout (Dropout)            (None, 32, 32, 3)         0         \n",
            "_________________________________________________________________\n",
            "conv2d (Conv2D)              (None, 28, 28, 64)        4864      \n",
            "_________________________________________________________________\n",
            "max_pooling2d (MaxPooling2D) (None, 14, 14, 64)        0         \n",
            "_________________________________________________________________\n",
            "dropout_1 (Dropout)          (None, 14, 14, 64)        0         \n",
            "_________________________________________________________________\n",
            "conv2d_1 (Conv2D)            (None, 10, 10, 64)        102464    \n",
            "_________________________________________________________________\n",
            "max_pooling2d_1 (MaxPooling2 (None, 5, 5, 64)          0         \n",
            "_________________________________________________________________\n",
            "dropout_2 (Dropout)          (None, 5, 5, 64)          0         \n",
            "_________________________________________________________________\n",
            "conv2d_2 (Conv2D)            (None, 1, 1, 128)         204928    \n",
            "_________________________________________________________________\n",
            "flatten (Flatten)            (None, 128)               0         \n",
            "=================================================================\n",
            "Total params: 312,256\n",
            "Trainable params: 312,256\n",
            "Non-trainable params: 0\n",
            "_________________________________________________________________\n"
          ],
          "name": "stdout"
        }
      ]
    },
    {
      "cell_type": "markdown",
      "metadata": {
        "id": "vNZaWi7mJt3N"
      },
      "source": [
        "**Classification Network**"
      ]
    },
    {
      "cell_type": "code",
      "metadata": {
        "id": "G6DT58l1JCaT"
      },
      "source": [
        "def ClassificationNet(name=None):\n",
        "    '''\n",
        "    Return a Classification Network.\n",
        "    Input: None.\n",
        "    Output: A tuple containing the handle of input layer and output layer.\n",
        "    '''\n",
        "    cl_input = keras.Input(shape=[128])\n",
        "    x = keras.layers.Dense(128, activation='relu')(cl_input)\n",
        "    cl_out = keras.layers.Dense(5, activation='relu')(x)\n",
        "    if (name is None):\n",
        "        cl = keras.Model(inputs=cl_input, outputs=cl_out, name='ClassificationNetwork')\n",
        "    else:\n",
        "        cl = keras.Model(inputs=cl_input, outputs=cl_out, name=name)\n",
        "    return cl"
      ],
      "execution_count": null,
      "outputs": []
    },
    {
      "cell_type": "code",
      "metadata": {
        "colab": {
          "base_uri": "https://localhost:8080/"
        },
        "id": "vbGYLYUZJEZr",
        "outputId": "b81cd6f3-0dca-4cc1-a3dd-56be03976a06"
      },
      "source": [
        "cl_demo = ClassificationNet()\n",
        "cl_demo.summary()"
      ],
      "execution_count": null,
      "outputs": [
        {
          "output_type": "stream",
          "text": [
            "Model: \"ClassificationNetwork\"\n",
            "_________________________________________________________________\n",
            "Layer (type)                 Output Shape              Param #   \n",
            "=================================================================\n",
            "input_2 (InputLayer)         [(None, 128)]             0         \n",
            "_________________________________________________________________\n",
            "dense (Dense)                (None, 128)               16512     \n",
            "_________________________________________________________________\n",
            "dense_1 (Dense)              (None, 5)                 645       \n",
            "=================================================================\n",
            "Total params: 17,157\n",
            "Trainable params: 17,157\n",
            "Non-trainable params: 0\n",
            "_________________________________________________________________\n"
          ],
          "name": "stdout"
        }
      ]
    },
    {
      "cell_type": "markdown",
      "metadata": {
        "id": "xYFz7DJ6Jq_F"
      },
      "source": [
        "**Source Domain Decoder and Discriminator**"
      ]
    },
    {
      "cell_type": "code",
      "metadata": {
        "id": "_dziOHQpJF3E"
      },
      "source": [
        "def SourceTargetDecoder(name=None):\n",
        "    dc_input = keras.Input(shape=[128])\n",
        "    x = keras.layers.Reshape((1,1,128))(dc_input)\n",
        "    # ConvTran,  2×2 , 512, stride 1, padding 0, Batch Normalization, ReLU\n",
        "    x = keras.layers.Conv2DTranspose(filters=512, kernel_size=2, strides=1,\n",
        "                                     padding='valid')(x)\n",
        "    x = keras.layers.BatchNormalization()(x)\n",
        "    x = keras.layers.ReLU()(x)\n",
        "    # ConvTran,  4×4 , 256, stride 2, padding 1, Batch Normalization, ReLU\n",
        "    x = keras.layers.Conv2DTranspose(filters=256, kernel_size=4, strides=2,\n",
        "                                     padding='same')(x)\n",
        "    x = keras.layers.BatchNormalization()(x)\n",
        "    x = keras.layers.ReLU()(x)\n",
        "    # ConvTran,  4×4 , 128, stride 2, padding 1, Batch Normalization, ReLU\n",
        "    x = keras.layers.Conv2DTranspose(filters=128, kernel_size=4, strides=2,\n",
        "                                     padding='same')(x)\n",
        "    x = keras.layers.BatchNormalization()(x)\n",
        "    x = keras.layers.ReLU()(x)\n",
        "    # ConvTran,  4×4 , 64, stride 2, padding 1, Batch Normalization, ReLU\n",
        "    x = keras.layers.Conv2DTranspose(filters=64, kernel_size=4, strides=2,\n",
        "                                     padding='same')(x)\n",
        "    x = keras.layers.BatchNormalization()(x)\n",
        "    x = keras.layers.ReLU()(x)\n",
        "    # ConvTran,  4×4 , 3, stride 2, padding 1, Tanh\n",
        "    dc_out = keras.layers.Conv2DTranspose(filters=3, kernel_size=4, strides=2,\n",
        "                                          padding='same', activation=\"tanh\")(x)\n",
        "    if (name is None):\n",
        "        dc = keras.Model(inputs=dc_input, outputs=dc_out, name='Decoder')\n",
        "    else:\n",
        "        dc = keras.Model(inputs=dc_input, outputs=dc_out, name=name)\n",
        "    return dc"
      ],
      "execution_count": null,
      "outputs": []
    },
    {
      "cell_type": "code",
      "metadata": {
        "id": "sKi5mMW4JLHk"
      },
      "source": [
        "def SourceDomainDiscriminator(name=None):\n",
        "    '''\n",
        "    Return a Source Domain Discriminator.\n",
        "    Input: None.\n",
        "    Output: A tuple containing the handle of input layer and output layer.\n",
        "    '''\n",
        "    sd_input = keras.Input((32,32,3))\n",
        "    x = keras.layers.Conv2D(filters=64, kernel_size=3, strides=1,\n",
        "                            padding='same')(sd_input)\n",
        "    x = keras.layers.LeakyReLU(alpha=0.2)(x)\n",
        "    x = keras.layers.BatchNormalization()(x)\n",
        "    x = keras.layers.MaxPool2D(2, strides=2)(x)\n",
        "    x = keras.layers.Conv2D(filters=128, kernel_size=3, strides=1,\n",
        "                        padding='same')(x)\n",
        "    x = keras.layers.LeakyReLU(alpha=0.2)(x)\n",
        "    x = keras.layers.BatchNormalization()(x)\n",
        "    x = keras.layers.MaxPool2D(2, strides=2)(x)\n",
        "    x = keras.layers.Conv2D(filters=256, kernel_size=3, strides=1,\n",
        "                        padding='same')(x)\n",
        "    x = keras.layers.LeakyReLU(alpha=0.2)(x)\n",
        "    x = keras.layers.BatchNormalization()(x)\n",
        "    x = keras.layers.MaxPool2D(4, strides=4)(x)\n",
        "    x = keras.layers.Flatten()(x)\n",
        "    sd_out_bin = keras.layers.Dense(1, activation='sigmoid')(x)\n",
        "    sd_out_aux = keras.layers.Dense(5, activation='relu')(x)\n",
        "    if (name is None):\n",
        "        sd = keras.Model(inputs=sd_input, outputs=(sd_out_bin, sd_out_aux),\n",
        "                         name='SourceDomainDiscriminator')\n",
        "    else:\n",
        "        sd = keras.Model(inputs=sd_input, outputs=(sd_out_bin, sd_out_aux),\n",
        "                         name=name)\n",
        "    return sd"
      ],
      "execution_count": null,
      "outputs": []
    },
    {
      "cell_type": "code",
      "metadata": {
        "colab": {
          "base_uri": "https://localhost:8080/"
        },
        "id": "xb0owiLwJNqf",
        "outputId": "48d1bd99-358a-4000-8704-09b440db210c"
      },
      "source": [
        "src_input = keras.Input(shape=[128])\n",
        "x = SourceTargetDecoder()(src_input)\n",
        "src_out = SourceDomainDiscriminator()(x)\n",
        "\n",
        "src_demo = keras.Model(inputs=src_input, outputs=src_out)\n",
        "src_demo.summary()"
      ],
      "execution_count": null,
      "outputs": [
        {
          "output_type": "stream",
          "text": [
            "Model: \"functional_1\"\n",
            "_________________________________________________________________\n",
            "Layer (type)                 Output Shape              Param #   \n",
            "=================================================================\n",
            "input_3 (InputLayer)         [(None, 128)]             0         \n",
            "_________________________________________________________________\n",
            "Decoder (Functional)         (None, 32, 32, 3)         3022531   \n",
            "_________________________________________________________________\n",
            "SourceDomainDiscriminator (F ((None, 1), (None, 5))    378758    \n",
            "=================================================================\n",
            "Total params: 3,401,289\n",
            "Trainable params: 3,398,473\n",
            "Non-trainable params: 2,816\n",
            "_________________________________________________________________\n"
          ],
          "name": "stdout"
        }
      ]
    },
    {
      "cell_type": "markdown",
      "metadata": {
        "id": "WYtg9pDsJlhN"
      },
      "source": [
        "**Target Domain Decoder and Discriminator**"
      ]
    },
    {
      "cell_type": "code",
      "metadata": {
        "id": "ldtE501qJj7C"
      },
      "source": [
        "def TargetDomainDiscriminator(name=None):\n",
        "    td_input = keras.Input((32,32,3))\n",
        "    x = keras.layers.Conv2D(filters=64, kernel_size=3, strides=1,\n",
        "                        padding='same')(td_input)\n",
        "    x = keras.layers.LeakyReLU(alpha=0.2)(x)\n",
        "    x = keras.layers.BatchNormalization()(x)\n",
        "    x = keras.layers.MaxPool2D(2, strides=2)(x)\n",
        "    x = keras.layers.Conv2D(filters=128, kernel_size=3, strides=1,\n",
        "                        padding='same')(x)\n",
        "    x = keras.layers.LeakyReLU(alpha=0.2)(x)\n",
        "    x = keras.layers.BatchNormalization()(x)\n",
        "    x = keras.layers.MaxPool2D(2, strides=2)(x)\n",
        "    x = keras.layers.Conv2D(filters=256, kernel_size=3, strides=1,\n",
        "                        padding='same')(x)\n",
        "    x = keras.layers.LeakyReLU(alpha=0.2)(x)\n",
        "    x = keras.layers.BatchNormalization()(x)\n",
        "    x = keras.layers.MaxPool2D(4, strides=4)(x)\n",
        "    x = keras.layers.Flatten()(x)\n",
        "    td_out = keras.layers.Dense(1, activation='sigmoid')(x)\n",
        "    if (name is None):\n",
        "        td = keras.Model(inputs=td_input, outputs=td_out, name='TargetDomainDiscriminator')\n",
        "    else:\n",
        "        td = keras.Model(inputs=td_input, outputs=td_out, name=name)\n",
        "    return td"
      ],
      "execution_count": null,
      "outputs": []
    },
    {
      "cell_type": "code",
      "metadata": {
        "colab": {
          "base_uri": "https://localhost:8080/"
        },
        "id": "IskVCHzlJ5VB",
        "outputId": "9a1a723e-418b-48fb-b68c-4aed6bfea8d4"
      },
      "source": [
        "tgt_input = keras.Input(shape=[128])\n",
        "x = SourceTargetDecoder()(tgt_input)\n",
        "tgt_out = TargetDomainDiscriminator()(x)\n",
        "\n",
        "tgt_demo = keras.Model(inputs=tgt_input, outputs=tgt_out)\n",
        "tgt_demo.summary()"
      ],
      "execution_count": null,
      "outputs": [
        {
          "output_type": "stream",
          "text": [
            "Model: \"functional_3\"\n",
            "_________________________________________________________________\n",
            "Layer (type)                 Output Shape              Param #   \n",
            "=================================================================\n",
            "input_6 (InputLayer)         [(None, 128)]             0         \n",
            "_________________________________________________________________\n",
            "Decoder (Functional)         (None, 32, 32, 3)         3022531   \n",
            "_________________________________________________________________\n",
            "TargetDomainDiscriminator (F (None, 1)                 373633    \n",
            "=================================================================\n",
            "Total params: 3,396,164\n",
            "Trainable params: 3,393,348\n",
            "Non-trainable params: 2,816\n",
            "_________________________________________________________________\n"
          ],
          "name": "stdout"
        }
      ]
    },
    {
      "cell_type": "markdown",
      "metadata": {
        "id": "tuLdis_WJ7Ae"
      },
      "source": [
        "# **Compose the Model**"
      ]
    },
    {
      "cell_type": "markdown",
      "metadata": {
        "id": "TeHScFPGKAyv"
      },
      "source": [
        "**ALOCC Wiring**"
      ]
    },
    {
      "cell_type": "code",
      "metadata": {
        "id": "x25mba25KB-m"
      },
      "source": [
        "# Build Model\n",
        "optimizer = keras.optimizers.RMSprop(lr=0.002, clipvalue=1.0, decay=1e-8)\n",
        "\n",
        "# Input layer\n",
        "prop_input_tgt = keras.Input(shape=(32,32,3), name=\"TargetInput\")\n",
        "    \n",
        "# Fed to the generator\n",
        "prop_fe = FeatureEncoder()\n",
        "prop_fe_tgt = prop_fe(prop_input_tgt)\n",
        "prop_sd = SourceTargetDecoder()\n",
        "reconstructed_img = prop_sd(prop_fe_tgt)\n",
        "\n",
        "# Target flow to the target domain discriminator\n",
        "prop_tdd = TargetDomainDiscriminator()\n",
        "prop_tdd.compile(optimizer=optimizer,loss='binary_crossentropy')\n",
        "prop_tdd.trainable = False\n",
        "validity = prop_tdd(reconstructed_img)\n",
        "\n",
        "# Final model\n",
        "mod_alocc = keras.Model(\n",
        "    inputs=[prop_input_tgt],\n",
        "    outputs=[reconstructed_img, validity]\n",
        ")\n",
        "mod_alocc.compile(loss=['binary_crossentropy', 'binary_crossentropy'],\n",
        "            loss_weights=[0.2, 1],\n",
        "            optimizer=optimizer)"
      ],
      "execution_count": null,
      "outputs": []
    },
    {
      "cell_type": "code",
      "metadata": {
        "id": "_dJu9jx9KVD3"
      },
      "source": [
        "def train_alocc_model(model,X_tgt, optimizer, batch_size=64, n_epochs=50, name=None):\n",
        "    X_tilde = X_tgt + torch.randn((len(X_tgt),32,32,3))\n",
        "\n",
        "    counter = 1\n",
        "    # Record generator/R network reconstruction training losses.\n",
        "    plot_epochs = []\n",
        "    plot_g_recon_losses = []\n",
        "    \n",
        "    # Adversarial ground truths\n",
        "    ones = np.ones((batch_size, 1))\n",
        "    zeros = np.zeros((batch_size, 1))\n",
        "    for epoch in range(1, n_epochs + 1):\n",
        "        n_steps = len(X_tgt) // batch_size\n",
        "        for idx in range(0, n_steps):\n",
        "            batch = X_tgt[idx * batch_size:(idx + 1) * batch_size]\n",
        "            batch_noise = X_tilde[idx * batch_size:(idx + 1) * batch_size]\n",
        "            batch_clean = X_tgt[idx * batch_size:(idx + 1) * batch_size]\n",
        "            \n",
        "            batch_images = np.array(batch).astype(np.float32)\n",
        "            batch_noise_images = np.array(batch_noise).astype(np.float32)\n",
        "            batch_clean_images = np.array(batch_clean).astype(np.float32)\n",
        "\n",
        "            outputs = model((batch_noise_images), training=True)\n",
        "            (reconstructed_img, validity) = outputs\n",
        "            \n",
        "            batch_fake_images = reconstructed_img\n",
        "            # Update D network\n",
        "            d_loss_real = prop_tdd.train_on_batch(batch_images,ones)\n",
        "            d_loss_fake = prop_tdd.train_on_batch(batch_fake_images,zeros)\n",
        "            \n",
        "            # Update R network\n",
        "            model.train_on_batch(batch_noise_images, [batch_clean_images, ones])\n",
        "            g_loss = model.train_on_batch(batch_noise_images, [batch_clean_images, ones])\n",
        "            loss = g_loss\n",
        "            plot_epochs.append(epoch+idx/n_steps)\n",
        "            plot_g_recon_losses.append(g_loss[1])\n",
        "            counter += 1\n",
        "        msg = \"Epoch:[{0}] --> d_loss: {1:>0.3f}, g_loss:{2:>0.3f}, g_recon_loss:{3:>0.3f}\".format(epoch,d_loss_real+d_loss_fake, g_loss[0], g_loss[1])\n",
        "        print(msg)\n",
        "    # Save the model at this epoch\n",
        "    model.save('ALOCC_'+ name + '_epoch_' + str(epoch) + time.strftime(\"_%Y_%m_%d-%H_%M_%S\"))"
      ],
      "execution_count": null,
      "outputs": []
    },
    {
      "cell_type": "markdown",
      "metadata": {
        "id": "kj8vPb-TPmUW"
      },
      "source": [
        "**Helper Functions**"
      ]
    },
    {
      "cell_type": "code",
      "metadata": {
        "id": "S0jhLtE1Pop-"
      },
      "source": [
        "def random_batch(X, y, batch_size=32):\n",
        "    idx = np.random.randint(len(X), size=batch_size)\n",
        "    return tf.gather(X, idx), tf.gather(y, idx)"
      ],
      "execution_count": null,
      "outputs": []
    },
    {
      "cell_type": "code",
      "metadata": {
        "id": "Ez36KY0JPq42"
      },
      "source": [
        "def print_status_bar(iteration, total, loss=None):\n",
        "    if (loss is not None):\n",
        "        metrics = \" - \".join([\"{}: {:.4f}\".format(m.name, m.result())\n",
        "                             for m in loss])\n",
        "    else:\n",
        "        metrics = 'No loss available'\n",
        "    end = \"\" if iteration < total else \"\\n\"\n",
        "    print(\"\\r{}/{} - \".format(iteration, total) + metrics,\n",
        "          end=end)"
      ],
      "execution_count": null,
      "outputs": []
    },
    {
      "cell_type": "code",
      "metadata": {
        "id": "fU0YPf--PsDA"
      },
      "source": [
        "def plot_auc_curve(fpr, tpr, ax):\n",
        "    roc_auc = auc(fpr, tpr)\n",
        "    ax.plot(fpr, tpr, color='darkorange',\n",
        "             lw=2.0, label='ROC curve (area = %0.3f)' % roc_auc)\n",
        "    ax.plot([0, 1], [0, 1], color='gray', lw=1.0, linestyle='--')\n",
        "    ax.set_xlim([0.0, 1.0])\n",
        "    ax.set_ylim([0.0, 1.05])\n",
        "    ax.set_xlabel('False Positive Rate')\n",
        "    ax.set_ylabel('True Positive Rate')\n",
        "    ax.legend(loc=\"lower right\")"
      ],
      "execution_count": null,
      "outputs": []
    },
    {
      "cell_type": "code",
      "metadata": {
        "id": "O2XwO_BxPyuN"
      },
      "source": [
        "def novelty_detector(model, X, c_softmax=1.0, c_gloss=1.0, c_dscore=1.0):\n",
        "    '''\n",
        "    A novelty detector based on proposed method. Output a score based on maximum softmax probability,\n",
        "    generator loss, and discriminator score.\n",
        "    '''\n",
        "    batch_size = 64\n",
        "    n_batch = len(X) // batch_size\n",
        "    discriminator_score = np.array([]).reshape(0)\n",
        "\n",
        "    print('Novelty Detector - Computing Outputs')\n",
        "    \n",
        "    for i in range(n_batch):\n",
        "        s = i * batch_size\n",
        "        e = (i+1) * batch_size\n",
        "        outputs = mod_alocc((X[s:e]))\n",
        "        (reconstructed_img, validity) = outputs\n",
        "\n",
        "        discriminator_score = np.concatenate((discriminator_score,\n",
        "            tf.squeeze(validity)))\n",
        "        \n",
        "        print_status_bar(i * batch_size, len(X))\n",
        "    \n",
        "    s = n_batch * batch_size\n",
        "    e = len(X)\n",
        "    outputs = mod_alocc((X[s:e]))\n",
        "    (reconstructed_img, validity) = outputs\n",
        "\n",
        "    discriminator_score = np.concatenate((discriminator_score,\n",
        "        tf.squeeze(validity)))\n",
        "    \n",
        "    print_status_bar(len(X), len(X))\n",
        "    \n",
        "    return (discriminator_score)"
      ],
      "execution_count": null,
      "outputs": []
    },
    {
      "cell_type": "markdown",
      "metadata": {
        "id": "ouUXozdsRU3r"
      },
      "source": [
        "# **MNIST to SEMEION**"
      ]
    },
    {
      "cell_type": "code",
      "metadata": {
        "id": "Xyq-s_DHKY_Z",
        "colab": {
          "base_uri": "https://localhost:8080/"
        },
        "outputId": "2b45e627-1127-4a92-d39c-288e1711ef7f"
      },
      "source": [
        "X_tgt_1 = tf.gather(mnist_X_train, mnist_0_4)\n",
        "history = train_alocc_model(mod_alocc,X_tgt_1,optimizer,batch_size=64, n_epochs=5, name='mnist_semeion')"
      ],
      "execution_count": null,
      "outputs": [
        {
          "output_type": "stream",
          "text": [
            "Epoch:[1] --> d_loss: 0.000, g_loss:-0.127, g_recon_loss:-0.633\n",
            "Epoch:[2] --> d_loss: 0.000, g_loss:-0.206, g_recon_loss:-1.031\n",
            "Epoch:[3] --> d_loss: 0.000, g_loss:-0.234, g_recon_loss:-1.171\n",
            "Epoch:[4] --> d_loss: 0.000, g_loss:-0.244, g_recon_loss:-1.220\n",
            "Epoch:[5] --> d_loss: 0.000, g_loss:-0.252, g_recon_loss:-1.262\n",
            "WARNING:tensorflow:From /usr/local/lib/python3.6/dist-packages/tensorflow/python/training/tracking/tracking.py:111: Model.state_updates (from tensorflow.python.keras.engine.training) is deprecated and will be removed in a future version.\n",
            "Instructions for updating:\n",
            "This property should not be used in TensorFlow 2.0, as updates are applied automatically.\n",
            "WARNING:tensorflow:From /usr/local/lib/python3.6/dist-packages/tensorflow/python/training/tracking/tracking.py:111: Layer.updates (from tensorflow.python.keras.engine.base_layer) is deprecated and will be removed in a future version.\n",
            "Instructions for updating:\n",
            "This property should not be used in TensorFlow 2.0, as updates are applied automatically.\n",
            "INFO:tensorflow:Assets written to: ALOCC_mnist_semeion_epoch_5_2020_12_10-16_21_00/assets\n"
          ],
          "name": "stdout"
        }
      ]
    },
    {
      "cell_type": "code",
      "metadata": {
        "id": "eZzuOMg0PcWN"
      },
      "source": [
        "mod_saved = tf.keras.models.load_model('ALOCC_mnist_semeion_epoch_5_2020_12_10-16_21_00')"
      ],
      "execution_count": null,
      "outputs": []
    },
    {
      "cell_type": "code",
      "metadata": {
        "id": "zDMJl5I0Uyrm"
      },
      "source": [
        "# mod_saved = mod_alocc"
      ],
      "execution_count": null,
      "outputs": []
    },
    {
      "cell_type": "code",
      "metadata": {
        "colab": {
          "base_uri": "https://localhost:8080/"
        },
        "id": "fqPlrl1jRh6r",
        "outputId": "d371fa2b-1750-4bc5-a57d-f15f7cb50a3c"
      },
      "source": [
        "X_origin = tf.gather(semeion_X_train, semeion_0_4)\n",
        "X_novel = tf.gather(semeion_X_train, semeion_5_9)\n",
        "len_origin = len(X_origin)\n",
        "len_novel = len(X_novel)\n",
        "X_tgt = tf.concat((X_origin, X_novel), axis=0)\n",
        "y_tgt = tf.constant([[0.]] * len_origin + [[1.]] * len_novel)\n",
        "y_score = novelty_detector(mod_saved, X_tgt)"
      ],
      "execution_count": null,
      "outputs": [
        {
          "output_type": "stream",
          "text": [
            "Novelty Detector - Computing Outputs\n",
            "1274/1274 - No loss available\n"
          ],
          "name": "stdout"
        }
      ]
    },
    {
      "cell_type": "code",
      "metadata": {
        "colab": {
          "base_uri": "https://localhost:8080/",
          "height": 367
        },
        "id": "nzKXYDNtRxuK",
        "outputId": "9a52216d-ad3d-44bf-8e67-d8e6e14354fd"
      },
      "source": [
        "fig, ax = plt.subplots(1,1,figsize=(5,5))\n",
        "fpr, tpr, _  = roc_curve(y_tgt, -y_score)\n",
        "plot_auc_curve(fpr, tpr, ax)\n",
        "ax.set_title('ALOCC MNIST to SEMEION Overall Score')"
      ],
      "execution_count": null,
      "outputs": [
        {
          "output_type": "execute_result",
          "data": {
            "text/plain": [
              "Text(0.5, 1.0, 'ALOCC MNIST to SEMEION Overall Score')"
            ]
          },
          "metadata": {
            "tags": []
          },
          "execution_count": 51
        },
        {
          "output_type": "display_data",
          "data": {
            "image/png": "[encoded data removed]",
            "text/plain": [
              "<Figure size 360x360 with 1 Axes>"
            ]
          },
          "metadata": {
            "tags": [],
            "needs_background": "light"
          }
        }
      ]
    }
  ]
}