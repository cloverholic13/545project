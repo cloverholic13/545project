{
 "cells": [
  {
   "cell_type": "markdown",
   "metadata": {},
   "source": [
    "# grl model"
   ]
  },
  {
   "cell_type": "markdown",
   "metadata": {},
   "source": [
    "# packages"
   ]
  },
  {
   "cell_type": "code",
   "execution_count": 1,
   "metadata": {},
   "outputs": [],
   "source": [
    "import numpy as np\n",
    "import matplotlib.pyplot as plt\n",
    "import seaborn as sns\n",
    "\n",
    "# Tensorflow or PyTorch?\n",
    "import tensorflow as tf\n",
    "from tensorflow import keras\n",
    "\n",
    "import h5py\n",
    "import scipy.io as sio\n",
    "import time\n",
    "from sklearn.metrics import roc_curve, auc"
   ]
  },
  {
   "cell_type": "code",
   "execution_count": 2,
   "metadata": {},
   "outputs": [
    {
     "data": {
      "text/plain": [
       "[]"
      ]
     },
     "execution_count": 2,
     "metadata": {},
     "output_type": "execute_result"
    }
   ],
   "source": [
    "tf.config.experimental.list_physical_devices('GPU')"
   ]
  },
  {
   "cell_type": "markdown",
   "metadata": {},
   "source": [
    "# data loading"
   ]
  },
  {
   "cell_type": "code",
   "execution_count": 3,
   "metadata": {},
   "outputs": [
    {
     "data": {
      "text/plain": [
       "((60000, 28, 28), (60000,), (10000, 28, 28), (10000,))"
      ]
     },
     "execution_count": 3,
     "metadata": {},
     "output_type": "execute_result"
    }
   ],
   "source": [
    "# MNIST Dataset\n",
    "(mnist_X_train, mnist_y_train), (mnist_X_test, mnist_y_test) = keras.datasets.mnist.load_data()\n",
    "\n",
    "mnist_X_train.shape, mnist_y_train.shape, mnist_X_test.shape, mnist_y_test.shape"
   ]
  },
  {
   "cell_type": "code",
   "execution_count": 4,
   "metadata": {},
   "outputs": [
    {
     "data": {
      "text/plain": [
       "((7291, 16, 16), (7291,), (2007, 16, 16), (2007,))"
      ]
     },
     "execution_count": 4,
     "metadata": {},
     "output_type": "execute_result"
    }
   ],
   "source": [
    "# USPS Dataset\n",
    "with h5py.File('usps.h5', 'r') as hf:\n",
    "    train = hf.get('train')\n",
    "    usps_X_train = np.reshape(train.get('data')[:], (-1,16,16))\n",
    "    usps_y_train = train.get('target')[:]\n",
    "    test = hf.get('test')\n",
    "    usps_X_test = np.reshape(test.get('data')[:], (-1,16,16))\n",
    "    usps_y_test = test.get('target')[:]\n",
    "\n",
    "usps_X_train.shape, usps_y_train.shape, usps_X_test.shape, usps_y_test.shape"
   ]
  },
  {
   "cell_type": "code",
   "execution_count": 5,
   "metadata": {},
   "outputs": [
    {
     "data": {
      "text/plain": [
       "((73257, 32, 32, 3), (73257,), (26032, 32, 32, 3), (26032,))"
      ]
     },
     "execution_count": 5,
     "metadata": {},
     "output_type": "execute_result"
    }
   ],
   "source": [
    "# SVHN Dataset\n",
    "f = sio.loadmat('train_32x32.mat')\n",
    "svhn_X_train = np.moveaxis(np.array(f['X']), -1, 0)\n",
    "svhn_y_train = np.array(f['y']).squeeze()\n",
    "f = sio.loadmat('test_32x32.mat')\n",
    "svhn_X_test = np.moveaxis(np.array(f['X']), -1, 0)\n",
    "svhn_y_test = np.array(f['y']).squeeze()\n",
    "\n",
    "svhn_X_train.shape, svhn_y_train.shape, svhn_X_test.shape, svhn_y_test.shape"
   ]
  },
  {
   "cell_type": "code",
   "execution_count": 6,
   "metadata": {},
   "outputs": [],
   "source": [
    "svhn_y_train[svhn_y_train==10]=0\n",
    "svhn_y_test[svhn_y_test==10]=0"
   ]
  },
  {
   "cell_type": "markdown",
   "metadata": {},
   "source": [
    "# visualization"
   ]
  },
  {
   "cell_type": "code",
   "execution_count": 7,
   "metadata": {},
   "outputs": [],
   "source": [
    "def plot_digits(X, y=None, grid=None, ax=None):\n",
    "    if (X.ndim==2):\n",
    "        if (ax is None):\n",
    "            fig, ax = plt.subplots()\n",
    "        ax.imshow(X, cmap='gray')\n",
    "        ax.axis('off')\n",
    "        if (y is not None):\n",
    "            ax.set_title('Label ' + str(y))\n",
    "        plt.show()\n",
    "    else:\n",
    "        if (ax is None):\n",
    "            if (grid is None):\n",
    "                fig, ax = plt.subplots(X.shape[0])\n",
    "            else:\n",
    "                fig, ax = plt.subplots(grid[0], grid[1])\n",
    "        for i in range(X.shape[0]):\n",
    "            ax.flatten()[i].imshow(X[i], cmap='gray')\n",
    "            ax.flatten()[i].axis('off')\n",
    "            if (y is not None):\n",
    "                ax.flatten()[i].set_title('Label ' + str(y[i]))\n",
    "        plt.show()\n",
    "        \n",
    "def plot_color_digits(X, y=None, grid=None, ax=None):\n",
    "    if (X.ndim==3):\n",
    "        if (ax is None):\n",
    "            fig, ax = plt.subplots()\n",
    "        ax.imshow(X)\n",
    "        ax.axis('off')\n",
    "        if (y is not None):\n",
    "            ax.set_title('Label ' + str(y))\n",
    "        plt.show()\n",
    "    else:\n",
    "        if (ax is None):\n",
    "            if (grid is None):\n",
    "                fig, ax = plt.subplots(X.shape[0])\n",
    "            else:\n",
    "                fig, ax = plt.subplots(grid[0], grid[1])\n",
    "        for i in range(X.shape[0]):\n",
    "            ax.flatten()[i].imshow(X[i])\n",
    "            ax.flatten()[i].axis('off')\n",
    "            if (y is not None):\n",
    "                ax.flatten()[i].set_title('Label ' + str(y[i]))\n",
    "        plt.show()"
   ]
  },
  {
   "cell_type": "code",
   "execution_count": 8,
   "metadata": {},
   "outputs": [
    {
     "data": {
      "image/png": "[encoded data removed]",
      "text/plain": [
       "<Figure size 432x288 with 15 Axes>"
      ]
     },
     "metadata": {
      "needs_background": "light"
     },
     "output_type": "display_data"
    }
   ],
   "source": [
    "plot_digits(mnist_X_train[:15],mnist_y_train[:15],(3,5))"
   ]
  },
  {
   "cell_type": "code",
   "execution_count": 9,
   "metadata": {},
   "outputs": [
    {
     "data": {
      "image/png": "[encoded data removed]",
      "text/plain": [
       "<Figure size 432x288 with 15 Axes>"
      ]
     },
     "metadata": {
      "needs_background": "light"
     },
     "output_type": "display_data"
    }
   ],
   "source": [
    "plot_digits(usps_X_train[:15],usps_y_train[:15],(3,5))"
   ]
  },
  {
   "cell_type": "code",
   "execution_count": 10,
   "metadata": {},
   "outputs": [
    {
     "data": {
      "image/png": "[encoded data removed]",
      "text/plain": [
       "<Figure size 432x288 with 15 Axes>"
      ]
     },
     "metadata": {
      "needs_background": "light"
     },
     "output_type": "display_data"
    }
   ],
   "source": [
    "plot_color_digits(svhn_X_train[:15],svhn_y_train[:15],(3,5))"
   ]
  },
  {
   "cell_type": "markdown",
   "metadata": {},
   "source": [
    "# data preprocessing"
   ]
  },
  {
   "cell_type": "code",
   "execution_count": 11,
   "metadata": {},
   "outputs": [],
   "source": [
    "#training data\n",
    "mnist_0_4 = np.nonzero(mnist_y_train < 5)[0]\n",
    "mnist_5_9 = np.nonzero(mnist_y_train > 5)[0]\n",
    "usps_0_4 = np.nonzero(usps_y_train < 5)[0]\n",
    "usps_5_9 = np.nonzero(usps_y_train > 5)[0]\n",
    "svhn_0_4 = np.nonzero(svhn_y_train < 5)[0]\n",
    "svhn_5_9 = np.nonzero(svhn_y_train > 5)[0]\n",
    "\n",
    "mnist_X_train = mnist_X_train[:, :, :, np.newaxis]\n",
    "mnist_X_train = tf.broadcast_to(mnist_X_train, mnist_X_train.shape[:-1] + (3,))\n",
    "mnist_X_train = tf.image.resize(mnist_X_train, (32,32))\n",
    "\n",
    "usps_X_train = usps_X_train[:, :, :, np.newaxis]\n",
    "usps_X_train = tf.broadcast_to(usps_X_train, usps_X_train.shape[:-1] + (3,))\n",
    "usps_X_train = tf.image.resize(usps_X_train, (32,32))\n",
    "\n",
    "svhn_X_train = tf.cast(tf.convert_to_tensor(svhn_X_train),'float32')"
   ]
  },
  {
   "cell_type": "code",
   "execution_count": 12,
   "metadata": {},
   "outputs": [],
   "source": [
    "#testing data\n",
    "mnist_0_4t = np.nonzero(mnist_y_test < 5)[0]\n",
    "mnist_5_9t = np.nonzero(mnist_y_test > 5)[0]\n",
    "usps_0_4t = np.nonzero(usps_y_test < 5)[0]\n",
    "usps_5_9t = np.nonzero(usps_y_test > 5)[0]\n",
    "svhn_0_4t = np.nonzero(svhn_y_test < 5)[0]\n",
    "svhn_5_9t = np.nonzero(svhn_y_test > 5)[0]\n",
    "\n",
    "mnist_X_test = mnist_X_test[:, :, :, np.newaxis]\n",
    "mnist_X_test = tf.broadcast_to(mnist_X_test, mnist_X_test.shape[:-1] + (3,))\n",
    "mnist_X_test = tf.image.resize(mnist_X_test, (32,32))\n",
    "\n",
    "usps_X_test = usps_X_test[:, :, :, np.newaxis]\n",
    "usps_X_test = tf.broadcast_to(usps_X_test, usps_X_test.shape[:-1] + (3,))\n",
    "usps_X_test = tf.image.resize(usps_X_test, (32,32))\n",
    "\n",
    "svhn_X_test = tf.cast(tf.convert_to_tensor(svhn_X_test),'float32')"
   ]
  },
  {
   "cell_type": "markdown",
   "metadata": {},
   "source": [
    "# rescaling"
   ]
  },
  {
   "cell_type": "code",
   "execution_count": 13,
   "metadata": {},
   "outputs": [
    {
     "data": {
      "text/plain": [
       "(<tf.Tensor: shape=(), dtype=float32, numpy=0.0>,\n",
       " <tf.Tensor: shape=(), dtype=float32, numpy=255.0>)"
      ]
     },
     "execution_count": 13,
     "metadata": {},
     "output_type": "execute_result"
    }
   ],
   "source": [
    "#training\n",
    "tf.math.reduce_min(mnist_X_train), tf.math.reduce_max(mnist_X_train)"
   ]
  },
  {
   "cell_type": "code",
   "execution_count": 14,
   "metadata": {},
   "outputs": [
    {
     "data": {
      "text/plain": [
       "(<tf.Tensor: shape=(), dtype=float32, numpy=0.0>,\n",
       " <tf.Tensor: shape=(), dtype=float32, numpy=1.0>)"
      ]
     },
     "execution_count": 14,
     "metadata": {},
     "output_type": "execute_result"
    }
   ],
   "source": [
    "tf.math.reduce_min(usps_X_train), tf.math.reduce_max(usps_X_train)"
   ]
  },
  {
   "cell_type": "code",
   "execution_count": 15,
   "metadata": {},
   "outputs": [
    {
     "data": {
      "text/plain": [
       "(<tf.Tensor: shape=(), dtype=float32, numpy=0.0>,\n",
       " <tf.Tensor: shape=(), dtype=float32, numpy=255.0>)"
      ]
     },
     "execution_count": 15,
     "metadata": {},
     "output_type": "execute_result"
    }
   ],
   "source": [
    "tf.math.reduce_min(svhn_X_train), tf.math.reduce_max(svhn_X_train)"
   ]
  },
  {
   "cell_type": "code",
   "execution_count": 16,
   "metadata": {},
   "outputs": [
    {
     "data": {
      "text/plain": [
       "(<tf.Tensor: shape=(), dtype=float32, numpy=0.0>,\n",
       " <tf.Tensor: shape=(), dtype=float32, numpy=1.0>)"
      ]
     },
     "execution_count": 16,
     "metadata": {},
     "output_type": "execute_result"
    }
   ],
   "source": [
    "mnist_X_train = mnist_X_train / 255.0\n",
    "svhn_X_train = svhn_X_train / 255.0\n",
    "tf.math.reduce_min(mnist_X_train), tf.math.reduce_max(mnist_X_train)"
   ]
  },
  {
   "cell_type": "code",
   "execution_count": 17,
   "metadata": {},
   "outputs": [
    {
     "data": {
      "text/plain": [
       "(<tf.Tensor: shape=(), dtype=float32, numpy=0.0>,\n",
       " <tf.Tensor: shape=(), dtype=float32, numpy=1.0>)"
      ]
     },
     "execution_count": 17,
     "metadata": {},
     "output_type": "execute_result"
    }
   ],
   "source": [
    "tf.math.reduce_min(svhn_X_train), tf.math.reduce_max(svhn_X_train)"
   ]
  },
  {
   "cell_type": "code",
   "execution_count": 18,
   "metadata": {},
   "outputs": [],
   "source": [
    "#testing\n",
    "mnist_X_test = mnist_X_test / 255.0\n",
    "svhn_X_test = svhn_X_test / 255.0"
   ]
  },
  {
   "cell_type": "code",
   "execution_count": 19,
   "metadata": {},
   "outputs": [
    {
     "data": {
      "text/plain": [
       "(<tf.Tensor: shape=(), dtype=float32, numpy=0.0>,\n",
       " <tf.Tensor: shape=(), dtype=float32, numpy=1.0>)"
      ]
     },
     "execution_count": 19,
     "metadata": {},
     "output_type": "execute_result"
    }
   ],
   "source": [
    "tf.math.reduce_min(mnist_X_test), tf.math.reduce_max(mnist_X_test)"
   ]
  },
  {
   "cell_type": "code",
   "execution_count": 20,
   "metadata": {},
   "outputs": [
    {
     "data": {
      "text/plain": [
       "(<tf.Tensor: shape=(), dtype=float32, numpy=0.0>,\n",
       " <tf.Tensor: shape=(), dtype=float32, numpy=1.0>)"
      ]
     },
     "execution_count": 20,
     "metadata": {},
     "output_type": "execute_result"
    }
   ],
   "source": [
    "tf.math.reduce_min(svhn_X_test), tf.math.reduce_max(svhn_X_test)"
   ]
  },
  {
   "cell_type": "markdown",
   "metadata": {},
   "source": [
    "# normalization"
   ]
  },
  {
   "cell_type": "code",
   "execution_count": 21,
   "metadata": {},
   "outputs": [],
   "source": [
    "mnist_train_mean = np.mean(mnist_X_train,)\n",
    "mnist_train_std  = np.std(mnist_X_train)"
   ]
  },
  {
   "cell_type": "code",
   "execution_count": 22,
   "metadata": {},
   "outputs": [
    {
     "data": {
      "text/plain": [
       "(0.13085152, 0.28923184)"
      ]
     },
     "execution_count": 22,
     "metadata": {},
     "output_type": "execute_result"
    }
   ],
   "source": [
    "mnist_train_mean, mnist_train_std"
   ]
  },
  {
   "cell_type": "code",
   "execution_count": 23,
   "metadata": {},
   "outputs": [],
   "source": [
    "usps_train_mean = np.mean(usps_X_train)\n",
    "usps_train_std  = np.std(usps_X_train)"
   ]
  },
  {
   "cell_type": "code",
   "execution_count": 24,
   "metadata": {},
   "outputs": [
    {
     "data": {
      "text/plain": [
       "(0.2544808, 0.3481659)"
      ]
     },
     "execution_count": 24,
     "metadata": {},
     "output_type": "execute_result"
    }
   ],
   "source": [
    "usps_train_mean, usps_train_std"
   ]
  },
  {
   "cell_type": "code",
   "execution_count": 25,
   "metadata": {},
   "outputs": [],
   "source": [
    "svhn_train_mean = np.mean(svhn_X_train)\n",
    "svhn_train_std  = np.std(svhn_X_train)"
   ]
  },
  {
   "cell_type": "code",
   "execution_count": 26,
   "metadata": {},
   "outputs": [
    {
     "data": {
      "text/plain": [
       "(0.45141736, 0.1992912)"
      ]
     },
     "execution_count": 26,
     "metadata": {},
     "output_type": "execute_result"
    }
   ],
   "source": [
    "svhn_train_mean, svhn_train_std"
   ]
  },
  {
   "cell_type": "markdown",
   "metadata": {},
   "source": [
    "# general model component"
   ]
  },
  {
   "cell_type": "code",
   "execution_count": 27,
   "metadata": {},
   "outputs": [],
   "source": [
    "def FeatureEncoder(name=None):\n",
    "    '''\n",
    "    Return a Feature Encoder.\n",
    "    '''\n",
    "    fe_input = keras.Input(shape=(32,32,3))\n",
    "    x = keras.layers.Dropout(0.2)(fe_input)\n",
    "    x = keras.layers.Conv2D(filters=64, kernel_size=5, strides=1,\n",
    "                                   padding='valid', activation='relu')(x)\n",
    "    x = keras.layers.MaxPooling2D(2, strides=2)(x)\n",
    "    x = keras.layers.Dropout(0.2)(x)\n",
    "    x = keras.layers.Conv2D(filters=64, kernel_size=5, strides=1,\n",
    "                                   padding='valid', activation='relu')(x)\n",
    "    x = keras.layers.MaxPooling2D(2, strides=2)(x)\n",
    "    x = keras.layers.Dropout(0.2)(x)\n",
    "    x = keras.layers.Conv2D(filters=128, kernel_size=5, strides=1,\n",
    "                                   padding='valid', activation='relu')(x)\n",
    "    fe_out = keras.layers.Flatten()(x)\n",
    "    if (name is None):\n",
    "        fe = keras.Model(inputs=fe_input, outputs=fe_out, name='FeatureExtractor')\n",
    "    else:\n",
    "        fe = keras.Model(inputs=fe_input, outputs=fe_out, name=name)\n",
    "    return fe"
   ]
  },
  {
   "cell_type": "code",
   "execution_count": 28,
   "metadata": {},
   "outputs": [],
   "source": [
    "def ClassificationNet(name=None):\n",
    "    '''\n",
    "    Return a Classification Network.\n",
    "    Input: None.\n",
    "    Output: A tuple containing the handle of input layer and output layer.\n",
    "    '''\n",
    "    cl_input = keras.Input(shape=[128])\n",
    "    x = keras.layers.Dense(128, activation='relu')(cl_input)\n",
    "    cl_out = keras.layers.Dense(5, activation='relu')(x)\n",
    "    if (name is None):\n",
    "        cl = keras.Model(inputs=cl_input, outputs=cl_out, name='ClassificationNetwork')\n",
    "    else:\n",
    "        cl = keras.Model(inputs=cl_input, outputs=cl_out, name=name)\n",
    "    return cl"
   ]
  },
  {
   "cell_type": "markdown",
   "metadata": {},
   "source": [
    "# grl additional component"
   ]
  },
  {
   "cell_type": "markdown",
   "metadata": {},
   "source": [
    "Flip Gradient Builder: The gradient reversal layer has no parameters as-sociated with it (apart from the meta-parameter λ, which is not updated by backpropagation). During the forward propagation, GRL acts as an identity transform. During the backpropagation though, GRL takes the gradient from the subsequent level, multiplies it by −λ and passes it to the preceding layer."
   ]
  },
  {
   "cell_type": "code",
   "execution_count": 29,
   "metadata": {},
   "outputs": [],
   "source": [
    "def flip_gradient(x, l=1.0):\n",
    "    positive_path = tf.stop_gradient(x * tf.cast(1 + l, tf.float32))\n",
    "    negative_path = -x * tf.cast(l, tf.float32)\n",
    "    return positive_path + negative_path"
   ]
  },
  {
   "cell_type": "markdown",
   "metadata": {},
   "source": [
    "# Domain prediction:"
   ]
  },
  {
   "cell_type": "code",
   "execution_count": 30,
   "metadata": {},
   "outputs": [],
   "source": [
    "def DomainNet(name=None):\n",
    "    '''\n",
    "    Return a Domain Classification Network.\n",
    "    Input: None.\n",
    "    Output: A tuple containing the handle of input layer and output layer.\n",
    "    '''\n",
    "    dl_input = keras.Input(shape=[128])\n",
    "    x = keras.layers.Dense(128, activation='relu')(dl_input)\n",
    "    '''source/target, output shape = 2'''\n",
    "    dl_out = keras.layers.Dense(2, activation='relu')(x)\n",
    "    if (name is None):\n",
    "        dl = keras.Model(inputs=dl_input, outputs=dl_out, name='DomainClassificationNetwork')\n",
    "    else:\n",
    "        dl = keras.Model(inputs=dl_input, outputs=dl_out, name=name)\n",
    "    return dl"
   ]
  },
  {
   "cell_type": "code",
   "execution_count": 31,
   "metadata": {},
   "outputs": [
    {
     "name": "stdout",
     "output_type": "stream",
     "text": [
      "Model: \"DomainClassificationNetwork\"\n",
      "_________________________________________________________________\n",
      "Layer (type)                 Output Shape              Param #   \n",
      "=================================================================\n",
      "input_1 (InputLayer)         [(None, 128)]             0         \n",
      "_________________________________________________________________\n",
      "dense (Dense)                (None, 128)               16512     \n",
      "_________________________________________________________________\n",
      "dense_1 (Dense)              (None, 2)                 258       \n",
      "=================================================================\n",
      "Total params: 16,770\n",
      "Trainable params: 16,770\n",
      "Non-trainable params: 0\n",
      "_________________________________________________________________\n"
     ]
    }
   ],
   "source": [
    "dl_demo = DomainNet()\n",
    "dl_demo.summary()"
   ]
  },
  {
   "cell_type": "markdown",
   "metadata": {},
   "source": [
    "# GRL model"
   ]
  },
  {
   "cell_type": "markdown",
   "metadata": {},
   "source": [
    "Wiring up the component:"
   ]
  },
  {
   "cell_type": "code",
   "execution_count": 32,
   "metadata": {},
   "outputs": [],
   "source": [
    "# Input layer\n",
    "grl_input_src = keras.Input(shape=(32,32,3), name=\"SourceInput\")\n",
    "grl_input_tgt = keras.Input(shape=(32,32,3), name=\"TargetInput\")\n",
    "\"no source input skip\"\n",
    "\n",
    "# Fed to the same feature extractor\n",
    "grl_fe = FeatureEncoder()\n",
    "grl_fe_src = grl_fe(grl_input_src)\n",
    "grl_fe_tgt = grl_fe(grl_input_tgt)\n",
    "\n",
    "# Source representation flows to the classification network\n",
    "grl_out_cl = ClassificationNet()(grl_fe_src)\n",
    "\n",
    "# Flip the gradient when backpropagating through this operation\n",
    "grl_fe_src_feat = flip_gradient(grl_fe_src,1.0)#!!uncertain about self.l\n",
    "grl_fe_tgt_feat = flip_gradient(grl_fe_tgt,1.0)\n",
    "\n",
    "# Domain prediction\n",
    "grl_dc = DomainNet()\n",
    "grl_out_d_src = grl_dc(grl_fe_src_feat)\n",
    "grl_out_d_tgt = grl_dc(grl_fe_tgt_feat)\n",
    "\n",
    "# Final model\n",
    "mod_grl = keras.Model(\n",
    "    inputs=[grl_input_src, grl_input_tgt],\n",
    "    outputs=[grl_out_cl,   # Categorical Classifier\n",
    "             grl_out_d_src, # Sourve Domain Predictor\n",
    "             grl_out_d_tgt] # Target Domain Preductor\n",
    ")\n",
    "\n"
   ]
  },
  {
   "cell_type": "code",
   "execution_count": 33,
   "metadata": {},
   "outputs": [
    {
     "name": "stdout",
     "output_type": "stream",
     "text": [
      "Model: \"model\"\n",
      "__________________________________________________________________________________________________\n",
      "Layer (type)                    Output Shape         Param #     Connected to                     \n",
      "==================================================================================================\n",
      "SourceInput (InputLayer)        [(None, 32, 32, 3)]  0                                            \n",
      "__________________________________________________________________________________________________\n",
      "TargetInput (InputLayer)        [(None, 32, 32, 3)]  0                                            \n",
      "__________________________________________________________________________________________________\n",
      "FeatureExtractor (Functional)   (None, 128)          312256      SourceInput[0][0]                \n",
      "                                                                 TargetInput[0][0]                \n",
      "__________________________________________________________________________________________________\n",
      "tf.math.multiply (TFOpLambda)   (None, 128)          0           FeatureExtractor[0][0]           \n",
      "__________________________________________________________________________________________________\n",
      "tf.math.negative (TFOpLambda)   (None, 128)          0           FeatureExtractor[0][0]           \n",
      "__________________________________________________________________________________________________\n",
      "tf.math.multiply_2 (TFOpLambda) (None, 128)          0           FeatureExtractor[1][0]           \n",
      "__________________________________________________________________________________________________\n",
      "tf.math.negative_1 (TFOpLambda) (None, 128)          0           FeatureExtractor[1][0]           \n",
      "__________________________________________________________________________________________________\n",
      "tf.stop_gradient (TFOpLambda)   (None, 128)          0           tf.math.multiply[0][0]           \n",
      "__________________________________________________________________________________________________\n",
      "tf.math.multiply_1 (TFOpLambda) (None, 128)          0           tf.math.negative[0][0]           \n",
      "__________________________________________________________________________________________________\n",
      "tf.stop_gradient_1 (TFOpLambda) (None, 128)          0           tf.math.multiply_2[0][0]         \n",
      "__________________________________________________________________________________________________\n",
      "tf.math.multiply_3 (TFOpLambda) (None, 128)          0           tf.math.negative_1[0][0]         \n",
      "__________________________________________________________________________________________________\n",
      "tf.__operators__.add (TFOpLambd (None, 128)          0           tf.stop_gradient[0][0]           \n",
      "                                                                 tf.math.multiply_1[0][0]         \n",
      "__________________________________________________________________________________________________\n",
      "tf.__operators__.add_1 (TFOpLam (None, 128)          0           tf.stop_gradient_1[0][0]         \n",
      "                                                                 tf.math.multiply_3[0][0]         \n",
      "__________________________________________________________________________________________________\n",
      "ClassificationNetwork (Function (None, 5)            17157       FeatureExtractor[0][0]           \n",
      "__________________________________________________________________________________________________\n",
      "DomainClassificationNetwork (Fu (None, 2)            16770       tf.__operators__.add[0][0]       \n",
      "                                                                 tf.__operators__.add_1[0][0]     \n",
      "==================================================================================================\n",
      "Total params: 346,183\n",
      "Trainable params: 346,183\n",
      "Non-trainable params: 0\n",
      "__________________________________________________________________________________________________\n"
     ]
    }
   ],
   "source": [
    "mod_grl.summary()"
   ]
  },
  {
   "cell_type": "markdown",
   "metadata": {},
   "source": [
    "# Build the model"
   ]
  },
  {
   "cell_type": "code",
   "execution_count": 34,
   "metadata": {},
   "outputs": [],
   "source": [
    "def random_batch(X, y, batch_size=32):\n",
    "    idx = np.random.randint(len(X), size=batch_size)\n",
    "    return tf.gather(X, idx), tf.gather(y, idx)"
   ]
  },
  {
   "cell_type": "code",
   "execution_count": 35,
   "metadata": {},
   "outputs": [],
   "source": [
    "def print_status_bar(iteration, total, loss):\n",
    "    metrics = \" - \".join([\"{}: {:.4f}\".format(m.name, m.result())\n",
    "                         for m in loss])\n",
    "    end = \"\" if iteration < total else \"\\n\"\n",
    "    print(\"\\r{}/{} - \".format(iteration, total) + metrics,\n",
    "          end=end)"
   ]
  },
  {
   "cell_type": "markdown",
   "metadata": {},
   "source": [
    "X_src = tf.gather(mnist_X_train, mnist_0_4)\n",
    "y_src = tf.gather(mnist_y_train, mnist_0_4)\n",
    "X_tgt = tf.gather(usps_X_train, usps_0_4)\n",
    "y_tgt = tf.gather(usps_y_train, usps_0_4)\n",
    "batch_size = 64\n",
    "n_samples = max(len(X_src), len(X_tgt))\n",
    "n_steps = n_samples // batch_size\n",
    "src_size = batch_size\n",
    "tgt_size = batch_size\n",
    "X_src_batch, y_src_batch = random_batch(X_src, y_src, src_size)\n",
    "X_tgt_batch, y_tgt_batch = random_batch(X_tgt, y_tgt, tgt_size)\n",
    "\n",
    "outputs = mod_grl((X_src_batch, X_tgt_batch), training=True)\n",
    "print(outputs[0])"
   ]
  },
  {
   "cell_type": "code",
   "execution_count": 36,
   "metadata": {},
   "outputs": [],
   "source": [
    "def train_grl_model(model, X_src, y_src, X_tgt, y_tgt, optimizers, \n",
    "                    n_epochs=50,start_epoch=1,\n",
    "                    batch_size=64, name=None):\n",
    "    # Get the sample size, number of steps, source size, and target size\n",
    "    \n",
    "    n_samples = max(len(X_src), len(X_tgt))\n",
    "    n_steps = n_samples // batch_size\n",
    "    src_size = batch_size\n",
    "    tgt_size = batch_size\n",
    "\n",
    "    # Define loss functions\n",
    "    layers = model.layers\n",
    "    cat_loss = keras.losses.CategoricalCrossentropy()\n",
    "    bin_loss = keras.losses.BinaryCrossentropy()\n",
    "    \n",
    "    \n",
    "    # Define loss metrics and the history tracker\n",
    "    loss_name = ['loss_ce','loss_domain','loss_f_total']\n",
    "    mean_loss = []\n",
    "    for l in loss_name:\n",
    "        mean_loss.append(keras.metrics.Mean(name=l))\n",
    "    history = [loss_name]\n",
    "    \n",
    "    for epoch in range(1, n_epochs + 1):\n",
    "        print(\"Epoch {}/{}\".format(epoch, n_epochs))\n",
    "        \n",
    "        for step in range(1, n_steps + 1):\n",
    "            # Sample a batch from source and target data\n",
    "            X_src_batch, y_src_batch = random_batch(X_src, y_src, src_size)\n",
    "            X_tgt_batch, y_tgt_batch = random_batch(X_tgt, y_tgt, tgt_size)\n",
    "            with tf.GradientTape(persistent=True) as tape:\n",
    "                # Feed-forward Network\n",
    "                outputs = model((X_src_batch, X_tgt_batch), training=True)\n",
    "                # Separate the outputs\n",
    "                out_c1 = outputs[0]\n",
    "                d_src = outputs[1]\n",
    "                d_tgt = outputs[2]\n",
    "                #Calculate the losses\n",
    "                loss_ce = cat_loss(tf.one_hot(y_src_batch,5), keras.activations.softmax(out_c1))\n",
    "                loss_domain = (bin_loss(tf.constant([[1.]] * src_size), d_src) +\n",
    "                               bin_loss(tf.constant([[1.]] * tgt_size), d_tgt))\n",
    "                loss_f_total = loss_ce + loss_domain\n",
    "                \n",
    "            gradient_fe = tape.gradient(loss_f_total,\n",
    "                                        model.get_layer('FeatureExtractor').trainable_variables)\n",
    "            optimizers[0].apply_gradients(zip(gradient_fe,\n",
    "                                              model.get_layer('FeatureExtractor').trainable_variables))\n",
    "            gradient_ce = tape.gradient(loss_ce,\n",
    "                                        model.get_layer('ClassificationNetwork').trainable_variables)\n",
    "            optimizers[1].apply_gradients(zip(gradient_ce,\n",
    "                                              model.get_layer('ClassificationNetwork').trainable_variables))\n",
    "            gradient_domain = tape.gradient(loss_domain,\n",
    "                                            model.get_layer('DomainClassificationNetwork').trainable_variables)\n",
    "            optimizers[2].apply_gradients(zip(gradient_domain,\n",
    "                                              model.get_layer('DomainClassificationNetwork').trainable_variables))\n",
    "            \n",
    "            mean_loss[0](loss_ce)\n",
    "            mean_loss[1](loss_domain)\n",
    "            mean_loss[2](loss_f_total)\n",
    "            # Print Status Bar\n",
    "            print_status_bar(step * batch_size, n_samples, mean_loss)\n",
    "\n",
    "            # Save the history\n",
    "            history.append([m.result() for m in mean_loss])\n",
    "            \n",
    "            # Delete the tape\n",
    "            del(tape)\n",
    "\n",
    "        # Refresh the status bar\n",
    "        print_status_bar(n_samples, n_samples, mean_loss)\n",
    "        \n",
    "        # Save the model at this epoch\n",
    "        model.save(name + '_epoch_' + str(epoch) + time.strftime(\"_%Y_%m_%d-%H_%M_%S\"))\n",
    "        \n",
    "        # Reset the metrics\n",
    "        for loss in mean_loss:\n",
    "            loss.reset_states()\n",
    "\n",
    "    return history"
   ]
  },
  {
   "cell_type": "markdown",
   "metadata": {},
   "source": [
    "# train the model"
   ]
  },
  {
   "cell_type": "code",
   "execution_count": 37,
   "metadata": {},
   "outputs": [
    {
     "name": "stdout",
     "output_type": "stream",
     "text": [
      "Epoch 1/5\n",
      "30596/30596 - loss_ce: 0.8192 - loss_domain: 30.7982 - loss_f_total: 31.6175\n"
     ]
    },
    {
     "name": "stderr",
     "output_type": "stream",
     "text": [
      "WARNING:absl:Function `_wrapped_model` contains input name(s) SourceInput, TargetInput with unsupported characters which will be renamed to sourceinput, targetinput in the SavedModel.\n"
     ]
    },
    {
     "name": "stdout",
     "output_type": "stream",
     "text": [
      "INFO:tensorflow:Assets written to: mnist_usps_epoch_1_2020_11_30-21_37_34/assets\n"
     ]
    },
    {
     "name": "stderr",
     "output_type": "stream",
     "text": [
      "INFO:tensorflow:Assets written to: mnist_usps_epoch_1_2020_11_30-21_37_34/assets\n"
     ]
    },
    {
     "name": "stdout",
     "output_type": "stream",
     "text": [
      "Epoch 2/5\n",
      "30596/30596 - loss_ce: 0.4533 - loss_domain: 30.8478 - loss_f_total: 31.3012\n"
     ]
    },
    {
     "name": "stderr",
     "output_type": "stream",
     "text": [
      "WARNING:absl:Function `_wrapped_model` contains input name(s) SourceInput, TargetInput with unsupported characters which will be renamed to sourceinput, targetinput in the SavedModel.\n"
     ]
    },
    {
     "name": "stdout",
     "output_type": "stream",
     "text": [
      "INFO:tensorflow:Assets written to: mnist_usps_epoch_2_2020_11_30-21_40_22/assets\n"
     ]
    },
    {
     "name": "stderr",
     "output_type": "stream",
     "text": [
      "INFO:tensorflow:Assets written to: mnist_usps_epoch_2_2020_11_30-21_40_22/assets\n"
     ]
    },
    {
     "name": "stdout",
     "output_type": "stream",
     "text": [
      "Epoch 3/5\n",
      "30596/30596 - loss_ce: 0.4588 - loss_domain: 30.3504 - loss_f_total: 30.8093\n"
     ]
    },
    {
     "name": "stderr",
     "output_type": "stream",
     "text": [
      "WARNING:absl:Function `_wrapped_model` contains input name(s) SourceInput, TargetInput with unsupported characters which will be renamed to sourceinput, targetinput in the SavedModel.\n"
     ]
    },
    {
     "name": "stdout",
     "output_type": "stream",
     "text": [
      "INFO:tensorflow:Assets written to: mnist_usps_epoch_3_2020_11_30-21_43_10/assets\n"
     ]
    },
    {
     "name": "stderr",
     "output_type": "stream",
     "text": [
      "INFO:tensorflow:Assets written to: mnist_usps_epoch_3_2020_11_30-21_43_10/assets\n"
     ]
    },
    {
     "name": "stdout",
     "output_type": "stream",
     "text": [
      "Epoch 4/5\n",
      "30596/30596 - loss_ce: 0.5511 - loss_domain: 7.3650 - loss_f_total: 7.916150\n"
     ]
    },
    {
     "name": "stderr",
     "output_type": "stream",
     "text": [
      "WARNING:absl:Function `_wrapped_model` contains input name(s) SourceInput, TargetInput with unsupported characters which will be renamed to sourceinput, targetinput in the SavedModel.\n"
     ]
    },
    {
     "name": "stdout",
     "output_type": "stream",
     "text": [
      "INFO:tensorflow:Assets written to: mnist_usps_epoch_4_2020_11_30-21_45_58/assets\n"
     ]
    },
    {
     "name": "stderr",
     "output_type": "stream",
     "text": [
      "INFO:tensorflow:Assets written to: mnist_usps_epoch_4_2020_11_30-21_45_58/assets\n"
     ]
    },
    {
     "name": "stdout",
     "output_type": "stream",
     "text": [
      "Epoch 5/5\n",
      "30596/30596 - loss_ce: 0.1250 - loss_domain: 0.0000 - loss_f_total: 0.1250\n"
     ]
    },
    {
     "name": "stderr",
     "output_type": "stream",
     "text": [
      "WARNING:absl:Function `_wrapped_model` contains input name(s) SourceInput, TargetInput with unsupported characters which will be renamed to sourceinput, targetinput in the SavedModel.\n"
     ]
    },
    {
     "name": "stdout",
     "output_type": "stream",
     "text": [
      "INFO:tensorflow:Assets written to: mnist_usps_epoch_5_2020_11_30-21_48_47/assets\n"
     ]
    },
    {
     "name": "stderr",
     "output_type": "stream",
     "text": [
      "INFO:tensorflow:Assets written to: mnist_usps_epoch_5_2020_11_30-21_48_47/assets\n"
     ]
    }
   ],
   "source": [
    "opt = []\n",
    "for i in range(3):\n",
    "    opt.append(keras.optimizers.Nadam(learning_rate=0.0001))\n",
    "history = train_grl_model(mod_grl, X_src = tf.gather(mnist_X_train, mnist_0_4),\n",
    "                          y_src = tf.gather(mnist_y_train, mnist_0_4),\n",
    "                          X_tgt = tf.gather(usps_X_train, usps_0_4),\n",
    "                          y_tgt = tf.gather(usps_y_train, usps_0_4),\n",
    "                          optimizers = opt, n_epochs = 5, batch_size=64, name='mnist_usps')"
   ]
  },
  {
   "cell_type": "code",
   "execution_count": 38,
   "metadata": {},
   "outputs": [
    {
     "data": {
      "text/plain": [
       "(2390, 3)"
      ]
     },
     "execution_count": 38,
     "metadata": {},
     "output_type": "execute_result"
    }
   ],
   "source": [
    "history = np.array(history[1:])\n",
    "history.shape"
   ]
  },
  {
   "cell_type": "code",
   "execution_count": 40,
   "metadata": {},
   "outputs": [
    {
     "data": {
      "image/png": "[encoded data removed]",
      "text/plain": [
       "<Figure size 864x432 with 3 Axes>"
      ]
     },
     "metadata": {
      "needs_background": "light"
     },
     "output_type": "display_data"
    }
   ],
   "source": [
    "semantic_labels = ('Classification Loss', 'Domain Classification Loss','Total Feature Extractor Loss')\n",
    "epoch_index = np.linspace(0,len(history),11)\n",
    "fig, ax = plt.subplots(1,3,figsize=(12,6))\n",
    "for i in range(3):\n",
    "    ax.flatten()[i].plot(range(len(history)), history[:,i])\n",
    "    ax.flatten()[i].set_title(semantic_labels[i])\n",
    "    if (i>3):\n",
    "        ax.flatten()[i].set_xlabel('# of Updates')\n",
    "    if (i%4==0):\n",
    "        ax.flatten()[i].set_ylabel('Loss')\n",
    "    for j in range(len(epoch_index)):\n",
    "        ax.flatten()[i].axvline(epoch_index[j], c='gray', ls='--', alpha=0.5)"
   ]
  },
  {
   "cell_type": "markdown",
   "metadata": {},
   "source": [
    "Diagnostic Stats on Training Set"
   ]
  },
  {
   "cell_type": "code",
   "execution_count": 41,
   "metadata": {},
   "outputs": [
    {
     "data": {
      "text/plain": [
       "(<tf.Tensor: shape=(10, 5), dtype=float32, numpy=\n",
       " array([[8.33883678e-06, 1.93577187e-04, 3.96374584e-04, 9.99398351e-01,\n",
       "         3.37496385e-06],\n",
       "        [6.00627791e-05, 1.95831596e-03, 6.65311655e-03, 9.91284609e-01,\n",
       "         4.39314681e-05],\n",
       "        [4.51810798e-03, 9.77548003e-01, 4.51810798e-03, 4.51810798e-03,\n",
       "         8.89776461e-03],\n",
       "        [9.92818654e-01, 1.24617156e-06, 7.21073709e-04, 3.44556938e-05,\n",
       "         6.42441493e-03],\n",
       "        [1.24653219e-04, 1.13000844e-07, 4.42800374e-05, 2.45902265e-06,\n",
       "         9.99828458e-01],\n",
       "        [8.27859759e-01, 8.42057398e-06, 1.89217720e-02, 3.79277999e-03,\n",
       "         1.49417266e-01],\n",
       "        [1.85897714e-03, 1.05033454e-04, 7.29905674e-03, 9.90701675e-01,\n",
       "         3.52289389e-05],\n",
       "        [5.39613015e-04, 9.95872796e-01, 1.31725078e-03, 5.39613015e-04,\n",
       "         1.73077208e-03],\n",
       "        [3.50861764e-03, 9.79934514e-01, 5.39803179e-03, 3.50861764e-03,\n",
       "         7.65029714e-03],\n",
       "        [8.60813543e-06, 7.85499578e-05, 9.98455167e-01, 1.42871926e-03,\n",
       "         2.88666179e-05]], dtype=float32)>,\n",
       " <tf.Tensor: shape=(10,), dtype=int64, numpy=array([3, 3, 1, 0, 4, 0, 3, 1, 1, 2])>,\n",
       " <tf.Tensor: shape=(10,), dtype=uint8, numpy=array([3, 3, 1, 0, 4, 0, 3, 1, 1, 2], dtype=uint8)>)"
      ]
     },
     "execution_count": 41,
     "metadata": {},
     "output_type": "execute_result"
    }
   ],
   "source": [
    "index = np.random.randint(0, min(len(mnist_0_4), len(usps_0_4)), 10)\n",
    "X_src, X_tgt = (tf.gather(mnist_X_train, mnist_0_4[index]), \n",
    "                tf.gather(usps_X_train, usps_0_4[index]))\n",
    "y_src, y_tgt = (tf.gather(mnist_y_train, mnist_0_4[index]),\n",
    "                tf.gather(usps_y_train, usps_0_4[index]))\n",
    "outputs = mod_grl((X_src, X_tgt))\n",
    "(out_c1, d_src, d_tgt) = outputs\n",
    "tf.nn.softmax(out_c1), tf.math.argmax(out_c1,axis=1), y_src"
   ]
  },
  {
   "cell_type": "code",
   "execution_count": null,
   "metadata": {},
   "outputs": [],
   "source": []
  }
 ],
 "metadata": {
  "kernelspec": {
   "display_name": "Python 3",
   "language": "python",
   "name": "python3"
  },
  "language_info": {
   "codemirror_mode": {
    "name": "ipython",
    "version": 3
   },
   "file_extension": ".py",
   "mimetype": "text/x-python",
   "name": "python",
   "nbconvert_exporter": "python",
   "pygments_lexer": "ipython3",
   "version": "3.7.6"
  }
 },
 "nbformat": 4,
 "nbformat_minor": 4
}
