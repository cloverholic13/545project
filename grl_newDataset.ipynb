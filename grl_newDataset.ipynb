{
 "cells": [
  {
   "cell_type": "code",
   "execution_count": 1,
   "metadata": {},
   "outputs": [],
   "source": [
    "import numpy as np\n",
    "import matplotlib.pyplot as plt\n",
    "import h5py\n",
    "import scipy.io as sio\n",
    "import time\n",
    "\n",
    "import os\n",
    "from sklearn.model_selection import train_test_split\n",
    "# Tensorflow or PyTorch?\n",
    "import tensorflow as tf\n",
    "from tensorflow import keras"
   ]
  },
  {
   "cell_type": "code",
   "execution_count": 2,
   "metadata": {},
   "outputs": [
    {
     "data": {
      "text/plain": [
       "[]"
      ]
     },
     "execution_count": 2,
     "metadata": {},
     "output_type": "execute_result"
    }
   ],
   "source": [
    "tf.config.experimental.list_physical_devices('GPU')"
   ]
  },
  {
   "cell_type": "code",
   "execution_count": 3,
   "metadata": {},
   "outputs": [
    {
     "data": {
      "text/plain": [
       "((60000, 28, 28), (60000,), (10000, 28, 28), (10000,))"
      ]
     },
     "execution_count": 3,
     "metadata": {},
     "output_type": "execute_result"
    }
   ],
   "source": [
    "# MNIST Dataset\n",
    "(mnist_X_train, mnist_y_train), (mnist_X_test, mnist_y_test) = keras.datasets.mnist.load_data()\n",
    "\n",
    "mnist_X_train.shape, mnist_y_train.shape, mnist_X_test.shape, mnist_y_test.shape"
   ]
  },
  {
   "cell_type": "code",
   "execution_count": 4,
   "metadata": {},
   "outputs": [
    {
     "data": {
      "text/plain": [
       "dtype('float32')"
      ]
     },
     "execution_count": 4,
     "metadata": {},
     "output_type": "execute_result"
    }
   ],
   "source": [
    "mnist_X_train = mnist_X_train.astype('float32')\n",
    "mnist_X_test = mnist_X_test.astype('float32')\n",
    "mnist_X_train.dtype"
   ]
  },
  {
   "cell_type": "code",
   "execution_count": 5,
   "metadata": {},
   "outputs": [],
   "source": [
    "def plot_digits(X, y=None, grid=None):\n",
    "    if (X.ndim==2):\n",
    "        fig, ax = plt.subplots()\n",
    "        ax.imshow(X, cmap='gray')\n",
    "        ax.axis('off')\n",
    "        if (y is not None):\n",
    "            ax.set_title('Label ' + str(y))\n",
    "        plt.show()\n",
    "    else:\n",
    "        if (grid is None):\n",
    "            fig, ax = plt.subplots(X.shape[0])\n",
    "        else:\n",
    "            fig, ax = plt.subplots(grid[0], grid[1])\n",
    "        for i in range(X.shape[0]):\n",
    "            ax.flatten()[i].imshow(X[i], cmap='gray')\n",
    "            ax.flatten()[i].axis('off')\n",
    "            if (y is not None):\n",
    "                ax.flatten()[i].set_title('Label ' + str(y[i]))\n",
    "        plt.show()\n",
    "        \n",
    "def plot_color_digits(X, y=None, grid=None):\n",
    "    if (X.ndim==3):\n",
    "        fig, ax = plt.subplots()\n",
    "        ax.imshow(X)\n",
    "        ax.axis('off')\n",
    "        if (y is not None):\n",
    "            ax.set_title('Label ' + str(y))\n",
    "        plt.show()\n",
    "    else:\n",
    "        if (grid is None):\n",
    "            fig, ax = plt.subplots(X.shape[0])\n",
    "        else:\n",
    "            fig, ax = plt.subplots(grid[0], grid[1])\n",
    "        for i in range(X.shape[0]):\n",
    "            ax.flatten()[i].imshow(X[i])\n",
    "            ax.flatten()[i].axis('off')\n",
    "            if (y is not None):\n",
    "                ax.flatten()[i].set_title('Label ' + str(y[i]))\n",
    "        plt.show()"
   ]
  },
  {
   "cell_type": "code",
   "execution_count": 6,
   "metadata": {},
   "outputs": [],
   "source": [
    "mnist_0_4 = np.nonzero(mnist_y_train < 5)[0]\n",
    "mnist_5_9 = np.nonzero(mnist_y_train >= 5)[0]"
   ]
  },
  {
   "cell_type": "code",
   "execution_count": 7,
   "metadata": {},
   "outputs": [],
   "source": [
    "#same apply to test\n",
    "mnist_0_4t = np.nonzero(mnist_y_test < 5)[0]\n",
    "mnist_5_9t = np.nonzero(mnist_y_test >= 5)[0]"
   ]
  },
  {
   "cell_type": "code",
   "execution_count": 8,
   "metadata": {},
   "outputs": [],
   "source": [
    "mnist_X_train = mnist_X_train[:, :, :, np.newaxis]\n",
    "mnist_X_train = tf.broadcast_to(mnist_X_train, mnist_X_train.shape[:-1] + (3,))\n",
    "mnist_X_train = tf.image.resize(mnist_X_train, (32,32))"
   ]
  },
  {
   "cell_type": "code",
   "execution_count": 9,
   "metadata": {},
   "outputs": [],
   "source": [
    "#same apply  test\n",
    "mnist_X_test = mnist_X_test[:, :, :, np.newaxis]\n",
    "mnist_X_test = tf.broadcast_to(mnist_X_test, mnist_X_test.shape[:-1] + (3,))\n",
    "mnist_X_test = tf.image.resize(mnist_X_test, (32,32))"
   ]
  },
  {
   "cell_type": "code",
   "execution_count": 10,
   "metadata": {},
   "outputs": [
    {
     "data": {
      "text/plain": [
       "(<tf.Tensor: shape=(), dtype=float32, numpy=0.0>,\n",
       " <tf.Tensor: shape=(), dtype=float32, numpy=1.0>)"
      ]
     },
     "execution_count": 10,
     "metadata": {},
     "output_type": "execute_result"
    }
   ],
   "source": [
    "mnist_X_train = mnist_X_train / 255.0\n",
    "tf.math.reduce_min(mnist_X_train), tf.math.reduce_max(mnist_X_train)"
   ]
  },
  {
   "cell_type": "code",
   "execution_count": 11,
   "metadata": {},
   "outputs": [],
   "source": [
    "#same apply to test\n",
    "mnist_X_test = mnist_X_test / 255.0"
   ]
  },
  {
   "cell_type": "code",
   "execution_count": 12,
   "metadata": {},
   "outputs": [],
   "source": [
    "semeion = np.loadtxt(os.path.join('semeion.data'))\n",
    "semeion_X = semeion[:,:256].reshape((-1,16,16))\n",
    "semeion_y = np.argmax(semeion[:,256:],axis=1)\n",
    "(semeion_X_train, semeion_X_test,\n",
    " semeion_y_train, semeion_y_test) = train_test_split(semeion_X, semeion_y,\n",
    "                                                    test_size=0.2,\n",
    "                                                    random_state=42,\n",
    "                                                    stratify=semeion_y)"
   ]
  },
  {
   "cell_type": "code",
   "execution_count": 13,
   "metadata": {},
   "outputs": [
    {
     "data": {
      "text/plain": [
       "((1274, 16, 16), (1274,), (319, 16, 16), (319,))"
      ]
     },
     "execution_count": 13,
     "metadata": {},
     "output_type": "execute_result"
    }
   ],
   "source": [
    "semeion_X_train.shape, semeion_y_train.shape, semeion_X_test.shape, semeion_y_test.shape"
   ]
  },
  {
   "cell_type": "code",
   "execution_count": 14,
   "metadata": {},
   "outputs": [],
   "source": [
    "semeion_0_4 = np.nonzero(semeion_y_train < 5)[0]\n",
    "semeion_5_9 = np.nonzero(semeion_y_train >= 5)[0]\n",
    "semeion_0_4t = np.nonzero(semeion_y_test < 5)[0]\n",
    "semeion_5_9t = np.nonzero(semeion_y_test >= 5)[0]\n"
   ]
  },
  {
   "cell_type": "code",
   "execution_count": 15,
   "metadata": {},
   "outputs": [
    {
     "data": {
      "text/plain": [
       "TensorShape([1274, 32, 32, 3])"
      ]
     },
     "execution_count": 15,
     "metadata": {},
     "output_type": "execute_result"
    }
   ],
   "source": [
    "semeion_X_train = semeion_X_train[:, :, :, np.newaxis]\n",
    "semeion_X_train = tf.broadcast_to(semeion_X_train, semeion_X_train.shape[:-1] + (3,))\n",
    "semeion_X_train = tf.image.resize(semeion_X_train, (32,32))\n",
    "semeion_X_train.shape"
   ]
  },
  {
   "cell_type": "code",
   "execution_count": 16,
   "metadata": {},
   "outputs": [
    {
     "data": {
      "text/plain": [
       "TensorShape([319, 32, 32, 3])"
      ]
     },
     "execution_count": 16,
     "metadata": {},
     "output_type": "execute_result"
    }
   ],
   "source": [
    "semeion_X_test = semeion_X_test[:, :, :, np.newaxis]\n",
    "semeion_X_test = tf.broadcast_to(semeion_X_test, semeion_X_test.shape[:-1] + (3,))\n",
    "semeion_X_test = tf.image.resize(semeion_X_test, (32,32))\n",
    "semeion_X_test.shape"
   ]
  },
  {
   "cell_type": "code",
   "execution_count": 17,
   "metadata": {},
   "outputs": [
    {
     "data": {
      "text/plain": [
       "(<tf.Tensor: shape=(), dtype=float32, numpy=0.0>,\n",
       " <tf.Tensor: shape=(), dtype=float32, numpy=1.0>)"
      ]
     },
     "execution_count": 17,
     "metadata": {},
     "output_type": "execute_result"
    }
   ],
   "source": [
    "tf.math.reduce_min(semeion_X_train), tf.math.reduce_max(semeion_X_train)"
   ]
  },
  {
   "cell_type": "code",
   "execution_count": 18,
   "metadata": {},
   "outputs": [],
   "source": [
    "def FeatureEncoder(name=None):\n",
    "    '''\n",
    "    Return a Feature Encoder.\n",
    "    '''\n",
    "    fe_input = keras.Input(shape=(32,32,3))\n",
    "    x = keras.layers.Dropout(0.2)(fe_input)\n",
    "    x = keras.layers.Conv2D(filters=64, kernel_size=5, strides=1,\n",
    "                                   padding='valid', activation='relu')(x)\n",
    "    x = keras.layers.MaxPooling2D(2, strides=2)(x)\n",
    "    x = keras.layers.Dropout(0.2)(x)\n",
    "    x = keras.layers.Conv2D(filters=64, kernel_size=5, strides=1,\n",
    "                                   padding='valid', activation='relu')(x)\n",
    "    x = keras.layers.MaxPooling2D(2, strides=2)(x)\n",
    "    x = keras.layers.Dropout(0.2)(x)\n",
    "    x = keras.layers.Conv2D(filters=128, kernel_size=5, strides=1,\n",
    "                                   padding='valid', activation='relu')(x)\n",
    "    fe_out = keras.layers.Flatten()(x)\n",
    "    if (name is None):\n",
    "        fe = keras.Model(inputs=fe_input, outputs=fe_out, name='FeatureExtractor')\n",
    "    else:\n",
    "        fe = keras.Model(inputs=fe_input, outputs=fe_out, name=name)\n",
    "    return fe"
   ]
  },
  {
   "cell_type": "code",
   "execution_count": 19,
   "metadata": {},
   "outputs": [],
   "source": [
    "def ClassificationNet(name=None):\n",
    "    '''\n",
    "    Return a Classification Network.\n",
    "    Input: None.\n",
    "    Output: A tuple containing the handle of input layer and output layer.\n",
    "    '''\n",
    "    cl_input = keras.Input(shape=[128])\n",
    "    x = keras.layers.Dense(128, activation='relu')(cl_input)\n",
    "    cl_out = keras.layers.Dense(5, activation='relu')(x)\n",
    "    if (name is None):\n",
    "        cl = keras.Model(inputs=cl_input, outputs=cl_out, name='ClassificationNetwork')\n",
    "    else:\n",
    "        cl = keras.Model(inputs=cl_input, outputs=cl_out, name=name)\n",
    "    return cl"
   ]
  },
  {
   "cell_type": "code",
   "execution_count": 20,
   "metadata": {},
   "outputs": [],
   "source": [
    "def flip_gradient(x, l=1.0):\n",
    "    positive_path = tf.stop_gradient(x * tf.cast(1 + l, tf.float32))\n",
    "    negative_path = -x * tf.cast(l, tf.float32)\n",
    "    return positive_path + negative_path"
   ]
  },
  {
   "cell_type": "code",
   "execution_count": 21,
   "metadata": {},
   "outputs": [],
   "source": [
    "def DomainNet(name=None):\n",
    "    '''\n",
    "    Return a Domain Classification Network.\n",
    "    Input: None.\n",
    "    Output: A tuple containing the handle of input layer and output layer.\n",
    "    '''\n",
    "    dl_input = keras.Input(shape=[128])\n",
    "    x = keras.layers.Dense(128, activation='relu')(dl_input)\n",
    "    '''source/target, output shape = 2'''\n",
    "    dl_out = keras.layers.Dense(2, activation='relu')(x)\n",
    "    if (name is None):\n",
    "        dl = keras.Model(inputs=dl_input, outputs=dl_out, name='DomainClassificationNetwork')\n",
    "    else:\n",
    "        dl = keras.Model(inputs=dl_input, outputs=dl_out, name=name)\n",
    "    return dl"
   ]
  },
  {
   "cell_type": "code",
   "execution_count": 22,
   "metadata": {},
   "outputs": [],
   "source": [
    "# Input layer\n",
    "grl_input_src = keras.Input(shape=(32,32,3), name=\"SourceInput\")\n",
    "grl_input_tgt = keras.Input(shape=(32,32,3), name=\"TargetInput\")\n",
    "\"no source input skip\"\n",
    "\n",
    "# Fed to the same feature extractor\n",
    "grl_fe = FeatureEncoder()\n",
    "grl_fe_src = grl_fe(grl_input_src)\n",
    "grl_fe_tgt = grl_fe(grl_input_tgt)\n",
    "\n",
    "# Source representation flows to the classification network\n",
    "grl_out_cl = ClassificationNet()(grl_fe_src)\n",
    "\n",
    "# Flip the gradient when backpropagating through this operation\n",
    "grl_fe_src_feat = flip_gradient(grl_fe_src,1.0)#!!uncertain about self.l\n",
    "grl_fe_tgt_feat = flip_gradient(grl_fe_tgt,1.0)\n",
    "\n",
    "# Domain prediction\n",
    "grl_dc = DomainNet()\n",
    "grl_out_d_src = grl_dc(grl_fe_src_feat)\n",
    "grl_out_d_tgt = grl_dc(grl_fe_tgt_feat)\n",
    "\n",
    "# Final model\n",
    "mod_grl = keras.Model(\n",
    "    inputs=[grl_input_src, grl_input_tgt],\n",
    "    outputs=[grl_out_cl,   # Categorical Classifier\n",
    "             grl_out_d_src, # Sourve Domain Predictor\n",
    "             grl_out_d_tgt] # Target Domain Preductor\n",
    ")\n",
    "\n",
    "\n"
   ]
  },
  {
   "cell_type": "code",
   "execution_count": 23,
   "metadata": {},
   "outputs": [],
   "source": [
    "def random_batch(X, y, batch_size=32):\n",
    "    idx = np.random.randint(len(X), size=batch_size)\n",
    "    return tf.gather(X, idx), tf.gather(y, idx)"
   ]
  },
  {
   "cell_type": "code",
   "execution_count": 24,
   "metadata": {},
   "outputs": [],
   "source": [
    "def print_status_bar(iteration, total, loss=None):\n",
    "    if (loss is not None):\n",
    "        metrics = \" - \".join([\"{}: {:.4f}\".format(m.name, m.result())\n",
    "                             for m in loss])\n",
    "    else:\n",
    "        metrics = 'No loss available'\n",
    "    end = \"\" if iteration < total else \"\\n\"\n",
    "    print(\"\\r{}/{} - \".format(iteration, total) + metrics,\n",
    "          end=end)"
   ]
  },
  {
   "cell_type": "code",
   "execution_count": 25,
   "metadata": {},
   "outputs": [],
   "source": [
    "def train_grl_model(model, X_src, y_src, X_tgt, y_tgt, optimizers, batch_size=64, name=None):\n",
    "    # Get the sample size, number of steps, source size, and target size\n",
    "    \n",
    "    n_samples = max(len(X_src), len(X_tgt))\n",
    "    n_steps = n_samples // batch_size\n",
    "    src_size = batch_size\n",
    "    tgt_size = batch_size\n",
    "\n",
    "    # Define loss functions\n",
    "    layers = model.layers\n",
    "    cat_loss = keras.losses.CategoricalCrossentropy()\n",
    "    bin_loss = keras.losses.BinaryCrossentropy()\n",
    "    \n",
    "    \n",
    "    # Define loss metrics and the history tracker\n",
    "    loss_name = ['loss_ce','loss_domain','loss_f_total']\n",
    "    mean_loss = []\n",
    "    for l in loss_name:\n",
    "        mean_loss.append(keras.metrics.Mean(name=l))\n",
    "    history = [loss_name]\n",
    "    \n",
    "    for step in range(1, n_steps + 1):\n",
    "        # Sample a batch from source and target data\n",
    "        X_src_batch, y_src_batch = random_batch(X_src, y_src, src_size)\n",
    "        X_tgt_batch, y_tgt_batch = random_batch(X_tgt, y_tgt, tgt_size)\n",
    "        with tf.GradientTape(persistent=True) as tape:\n",
    "            # Feed-forward Network\n",
    "            outputs = model((X_src_batch, X_tgt_batch), training=True)\n",
    "            # Separate the outputs\n",
    "            out_c1 = outputs[0]\n",
    "            d_src = outputs[1]\n",
    "            d_tgt = outputs[2]\n",
    "            #out_c1, d_src, d_tgt = outputs\n",
    "            \n",
    "            #Calculate the losses\n",
    "            loss_ce = cat_loss(tf.one_hot(y_src_batch,5), keras.activations.softmax(out_c1))\n",
    "            loss_domain = (bin_loss(tf.constant([[1.]] * src_size), d_src) +\n",
    "                           bin_loss(tf.constant([[1.]] * tgt_size), d_tgt))\n",
    "            loss_f_total = loss_ce + loss_domain\n",
    "        \n",
    "        gradient_fe = tape.gradient(loss_f_total,\n",
    "                model.get_layer('FeatureExtractor').trainable_variables)\n",
    "        optimizers[0].apply_gradients(zip(gradient_fe,\n",
    "                model.get_layer('FeatureExtractor').trainable_variables))\n",
    "        gradient_ce = tape.gradient(loss_ce,\n",
    "                model.get_layer('ClassificationNetwork').trainable_variables)\n",
    "        optimizers[1].apply_gradients(zip(gradient_ce,\n",
    "                model.get_layer('ClassificationNetwork').trainable_variables))\n",
    "        gradient_domain = tape.gradient(loss_domain,\n",
    "                model.get_layer('DomainClassificationNetwork').trainable_variables)\n",
    "        optimizers[2].apply_gradients(zip(gradient_domain,\n",
    "                model.get_layer('DomainClassificationNetwork').trainable_variables))\n",
    "           \n",
    "           \n",
    "        mean_loss[0](loss_ce)\n",
    "        mean_loss[1](loss_domain)\n",
    "        mean_loss[2](loss_f_total)\n",
    "            \n",
    "        # Print Status Bar\n",
    "        print_status_bar(step * batch_size, n_samples, mean_loss)\n",
    "\n",
    "        # Save the history\n",
    "        history.append([m.result() for m in mean_loss])\n",
    "            \n",
    "        # Delete the tape\n",
    "        del(tape)\n",
    "    print_status_bar(n_samples, n_samples, mean_loss)\n",
    "    return history"
   ]
  },
  {
   "cell_type": "code",
   "execution_count": 26,
   "metadata": {},
   "outputs": [],
   "source": [
    "def model_output(model, X_src_batch, X_tgt_batch):\n",
    "    src_size = len(X_src_batch)\n",
    "    tgt_size = len(X_tgt_batch)\n",
    "\n",
    "\n",
    "    # Feed-forward Network\n",
    "    outputs = model((X_src_batch, X_tgt_batch))\n",
    "    \n",
    "    # Separate the outputs\n",
    "    out_c1, d_src, d_tgt = outputs\n",
    "    return out_c1, d_src, d_tgt\n",
    "   "
   ]
  },
  {
   "cell_type": "code",
   "execution_count": 27,
   "metadata": {},
   "outputs": [],
   "source": [
    "def novelty_detector(model, X, c_softmax=1.0, c_gloss=1.0, c_dscore=1.0):\n",
    "    '''\n",
    "    A novelty detector based on proposed method. Output a score based on maximum softmax probability,\n",
    "    generator loss, and discriminator score.\n",
    "    '''\n",
    "    batch_size = 64\n",
    "    n_batch = len(X) // batch_size\n",
    "    softmax_score = np.array([]).reshape(0)\n",
    "    \n",
    "    \n",
    "    for i in range(n_batch):\n",
    "        s = i * batch_size\n",
    "        e = (i+1) * batch_size\n",
    "        outputs = mod_grl((X[s:e], X[s:e]))\n",
    "        out_c1, d_src, d_tgt= outputs\n",
    "        \n",
    "        softmax_score = np.concatenate((softmax_score,\n",
    "            tf.math.reduce_max(tf.nn.softmax(out_c1),\n",
    "                               axis=1)))\n",
    "        \n",
    "        \n",
    "        print_status_bar(i * batch_size, len(X))\n",
    "    \n",
    "    s = n_batch * batch_size\n",
    "    e = len(X)\n",
    "    outputs = mod_grl((X[s:e], X[s:e]))\n",
    "    out_c1, d_src, d_tgt= outputs\n",
    "\n",
    "    softmax_score = np.concatenate((softmax_score,\n",
    "        tf.math.reduce_max(tf.nn.softmax(out_c1),\n",
    "                           axis=1)))\n",
    "    \n",
    "    \n",
    "    print_status_bar(len(X), len(X))\n",
    "    \n",
    "    return softmax_score"
   ]
  },
  {
   "cell_type": "code",
   "execution_count": 28,
   "metadata": {},
   "outputs": [],
   "source": [
    "from sklearn.metrics import roc_curve, auc\n",
    "def plot_auc_curve(fpr, tpr, ax):\n",
    "    roc_auc = auc(fpr, tpr)\n",
    "    ax.plot(fpr, tpr, color='darkorange',\n",
    "             lw=2.0, label='ROC curve (area = %0.3f)' % roc_auc)\n",
    "    ax.plot([0, 1], [0, 1], color='gray', lw=1.0, linestyle='--')\n",
    "    ax.set_xlim([0.0, 1.0])\n",
    "    ax.set_ylim([0.0, 1.05])\n",
    "    ax.set_xlabel('False Positive Rate')\n",
    "    ax.set_ylabel('True Positive Rate')\n",
    "    ax.legend(loc=\"lower right\")"
   ]
  },
  {
   "cell_type": "markdown",
   "metadata": {},
   "source": [
    "# mnist->semeion"
   ]
  },
  {
   "cell_type": "code",
   "execution_count": 29,
   "metadata": {},
   "outputs": [
    {
     "name": "stdout",
     "output_type": "stream",
     "text": [
      "30596/30596 - loss_ce: 1.0452 - loss_domain: 30.7994 - loss_f_total: 31.8447\n"
     ]
    }
   ],
   "source": [
    "opt5 = []\n",
    "for i in range(3):\n",
    "    opt5.append(keras.optimizers.Adam(learning_rate=0.0001))\n",
    "history5 = train_grl_model(mod_grl, X_src = tf.gather(mnist_X_train, mnist_0_4),\n",
    "                          y_src = tf.gather(mnist_y_train, mnist_0_4),\n",
    "                          X_tgt = tf.gather(semeion_X_train, semeion_0_4),\n",
    "                          y_tgt = tf.gather(semeion_y_train, semeion_0_4),\n",
    "                          optimizers = opt5, batch_size=64, name='mnist-semeion')"
   ]
  },
  {
   "cell_type": "code",
   "execution_count": 40,
   "metadata": {},
   "outputs": [
    {
     "name": "stdout",
     "output_type": "stream",
     "text": [
      "1274/1274 - No loss available\n"
     ]
    }
   ],
   "source": [
    "#novelty detector on target test\n",
    "X_origin = tf.gather(semeion_X_train, semeion_0_4)\n",
    "X_novel = tf.gather(semeion_X_train, semeion_5_9)\n",
    "len_origin = len(X_origin)\n",
    "len_novel = len(X_novel)\n",
    "X_tgt = tf.concat((X_origin, X_novel), axis=0)\n",
    "y_tgt5 = tf.constant([[0.]] * len_origin + [[1.]] * len_novel)\n",
    "mnist_semeion = novelty_detector(mod_grl, X_tgt)"
   ]
  },
  {
   "cell_type": "code",
   "execution_count": 41,
   "metadata": {},
   "outputs": [
    {
     "data": {
      "text/plain": [
       "array([0.56007779, 0.39528462, 0.73747307, ..., 0.2       , 0.2       ,\n",
       "       0.31388646])"
      ]
     },
     "execution_count": 41,
     "metadata": {},
     "output_type": "execute_result"
    }
   ],
   "source": [
    "mnist_semeion"
   ]
  },
  {
   "cell_type": "code",
   "execution_count": 42,
   "metadata": {},
   "outputs": [
    {
     "data": {
      "text/plain": [
       "Text(0.5, 1.0, 'MNIST to Semeion softmax test')"
      ]
     },
     "execution_count": 42,
     "metadata": {},
     "output_type": "execute_result"
    },
    {
     "data": {
      "image/png": "[encoded data removed]",
      "text/plain": [
       "<Figure size 720x720 with 4 Axes>"
      ]
     },
     "metadata": {
      "needs_background": "light"
     },
     "output_type": "display_data"
    }
   ],
   "source": [
    "fig, ax = plt.subplots(2,2,figsize=(10,10))\n",
    "fpr, tpr, _ = roc_curve(y_tgt5, -mnist_semeion)\n",
    "plot_auc_curve(fpr, tpr, ax[0,0])\n",
    "ax[0,0].set_title('MNIST to Semeion softmax test')"
   ]
  },
  {
   "cell_type": "code",
   "execution_count": 33,
   "metadata": {},
   "outputs": [],
   "source": [
    "index = np.random.randint(0, min(len(mnist_0_4), len(semeion_0_4)), 10)\n",
    "X_src, X_tgt = (tf.gather(mnist_X_train, mnist_0_4[index]), \n",
    "                tf.gather(semeion_X_train, semeion_0_4[index]))\n",
    "y_src, y_tgt = (tf.gather(mnist_y_train, mnist_0_4[index]),\n",
    "                tf.gather(semeion_y_train, semeion_0_4[index]))\n",
    "(out_c1, d_src, d_tgt) = model_output(mod_grl, X_src, X_tgt)"
   ]
  },
  {
   "cell_type": "code",
   "execution_count": 34,
   "metadata": {},
   "outputs": [
    {
     "data": {
      "text/plain": [
       "(<tf.Tensor: shape=(10, 5), dtype=float32, numpy=\n",
       " array([[0.0042503 , 0.9800253 , 0.00722373, 0.0042503 , 0.0042503 ],\n",
       "        [0.0664812 , 0.0664812 , 0.73407525, 0.0664812 , 0.0664812 ],\n",
       "        [0.2       , 0.2       , 0.2       , 0.2       , 0.2       ],\n",
       "        [0.88599056, 0.02850238, 0.02850238, 0.02850238, 0.02850238],\n",
       "        [0.0177763 , 0.0177763 , 0.9288949 , 0.0177763 , 0.0177763 ],\n",
       "        [0.982429  , 0.00439269, 0.00439269, 0.00439269, 0.00439269],\n",
       "        [0.9796617 , 0.0050846 , 0.0050846 , 0.0050846 , 0.0050846 ],\n",
       "        [0.9927441 , 0.00181403, 0.00181403, 0.00181403, 0.00181403],\n",
       "        [0.00541104, 0.00541104, 0.9783558 , 0.00541104, 0.00541104],\n",
       "        [0.00734382, 0.9706246 , 0.00734382, 0.00734382, 0.00734382]],\n",
       "       dtype=float32)>,\n",
       " <tf.Tensor: shape=(10,), dtype=int64, numpy=array([1, 2, 0, 0, 2, 0, 0, 0, 2, 1])>,\n",
       " <tf.Tensor: shape=(10,), dtype=uint8, numpy=array([1, 2, 3, 0, 2, 0, 0, 0, 2, 1], dtype=uint8)>)"
      ]
     },
     "execution_count": 34,
     "metadata": {},
     "output_type": "execute_result"
    }
   ],
   "source": [
    "tf.nn.softmax(out_c1), tf.math.argmax(out_c1,axis=1), y_src"
   ]
  },
  {
   "cell_type": "code",
   "execution_count": null,
   "metadata": {},
   "outputs": [],
   "source": []
  }
 ],
 "metadata": {
  "kernelspec": {
   "display_name": "Python 3",
   "language": "python",
   "name": "python3"
  },
  "language_info": {
   "codemirror_mode": {
    "name": "ipython",
    "version": 3
   },
   "file_extension": ".py",
   "mimetype": "text/x-python",
   "name": "python",
   "nbconvert_exporter": "python",
   "pygments_lexer": "ipython3",
   "version": "3.7.6"
  }
 },
 "nbformat": 4,
 "nbformat_minor": 4
}
